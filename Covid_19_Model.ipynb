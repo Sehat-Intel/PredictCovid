{
  "nbformat": 4,
  "nbformat_minor": 0,
  "metadata": {
    "colab": {
      "name": "Covid-19 Demo Model.ipynb",
      "provenance": [],
      "collapsed_sections": [],
      "toc_visible": true,
      "include_colab_link": true
    },
    "kernelspec": {
      "name": "python3",
      "display_name": "Python 3"
    },
    "accelerator": "GPU"
  },
  "cells": [
    {
      "cell_type": "markdown",
      "metadata": {
        "id": "view-in-github",
        "colab_type": "text"
      },
      "source": [
        "<a href=\"https://colab.research.google.com/github/tuminzee/PredictCovid/blob/cnn-model-changes/Covid_19_Model.ipynb\" target=\"_parent\"><img src=\"https://colab.research.google.com/assets/colab-badge.svg\" alt=\"Open In Colab\"/></a>"
      ]
    },
    {
      "cell_type": "code",
      "metadata": {
        "id": "xhq29svLL2LS",
        "outputId": "60a86d41-71b5-4bad-994c-d6de2c501935",
        "colab": {
          "base_uri": "https://localhost:8080/"
        }
      },
      "source": [
        "#Extracting dataset from drive\n",
        "!unrar x '/content/drive/My Drive/Covid 19 detection using Deep Learning/Datasets/DemoDataset.rar' '/content/DemoDataset/'"
      ],
      "execution_count": null,
      "outputs": [
        {
          "output_type": "stream",
          "text": [
            "\n",
            "UNRAR 5.50 freeware      Copyright (c) 1993-2017 Alexander Roshal\n",
            "\n",
            "\n",
            "Extracting from /content/drive/My Drive/Covid 19 detection using Deep Learning/Datasets/DemoDataset.rar\n",
            "\n",
            "Creating    /content/DemoDataset                                      OK\n",
            "Creating    /content/DemoDataset/Train                                OK\n",
            "Creating    /content/DemoDataset/Train/Covid                          OK\n",
            "Extracting  /content/DemoDataset/Train/Covid/01E392EE-69F9-4E33-BFCE-E5C968654078.jpeg     \b\b\b\b  0%\b\b\b\b\b  OK \n",
            "Extracting  /content/DemoDataset/Train/Covid/1-s2.0-S0140673620303706-fx1_lrg.jpg     \b\b\b\b  0%\b\b\b\b\b  OK \n",
            "Extracting  /content/DemoDataset/Train/Covid/1-s2.0-S1684118220300608-main.pdf-001.jpg     \b\b\b\b  0%\b\b\b\b\b  OK \n",
            "Extracting  /content/DemoDataset/Train/Covid/1-s2.0-S1684118220300608-main.pdf-002.jpg     \b\b\b\b  0%\b\b\b\b\b  OK \n",
            "Extracting  /content/DemoDataset/Train/Covid/1-s2.0-S1684118220300682-main.pdf-002-a2.png     \b\b\b\b  0%\b\b\b\b\b  OK \n",
            "Extracting  /content/DemoDataset/Train/Covid/1-s2.0-S1684118220300682-main.pdf-003-b1.png     \b\b\b\b  0%\b\b\b\b\b  OK \n",
            "Extracting  /content/DemoDataset/Train/Covid/1-s2.0-S1684118220300682-main.pdf-003-b2.png     \b\b\b\b  0%\b\b\b\b\b  OK \n",
            "Extracting  /content/DemoDataset/Train/Covid/1-s2.0-S2214250920300834-gr1_lrg-b.png     \b\b\b\b  1%\b\b\b\b\b  OK \n",
            "Extracting  /content/DemoDataset/Train/Covid/1-s2.0-S2214250920300834-gr1_lrg-c.png     \b\b\b\b  1%\b\b\b\b\b  OK \n",
            "Extracting  /content/DemoDataset/Train/Covid/1-s2.0-S2387020620301959-gr4_lrg-b.png     \b\b\b\b  1%\b\b\b\b\b  OK \n",
            "Extracting  /content/DemoDataset/Train/Covid/1.CXRCTThoraximagesofCOVID-19fromSingapore.pdf-000-fig1b.png     \b\b\b\b  1%\b\b\b\b\b  OK \n",
            "Extracting  /content/DemoDataset/Train/Covid/1.CXRCTThoraximagesofCOVID-19fromSingapore.pdf-001-fig2a.png     \b\b\b\b  1%\b\b\b\b\b  OK \n",
            "Extracting  /content/DemoDataset/Train/Covid/1.CXRCTThoraximagesofCOVID-19fromSingapore.pdf-001-fig2b.png     \b\b\b\b  1%\b\b\b\b\b  OK \n",
            "Extracting  /content/DemoDataset/Train/Covid/1.CXRCTThoraximagesofCOVID-19fromSingapore.pdf-002-fig3a.png     \b\b\b\b  1%\b\b\b\b\b  OK \n",
            "Extracting  /content/DemoDataset/Train/Covid/1.CXRCTThoraximagesofCOVID-19fromSingapore.pdf-002-fig3b.png     \b\b\b\b  1%\b\b\b\b\b  OK \n",
            "Extracting  /content/DemoDataset/Train/Covid/1.CXRCTThoraximagesofCOVID-19fromSingapore.pdf-003-fig4b.png     \b\b\b\b  1%\b\b\b\b\b  OK \n",
            "Extracting  /content/DemoDataset/Train/Covid/10.1016-slash-j.anl.2020.04.002-a.png     \b\b\b\b  1%\b\b\b\b\b  OK \n",
            "Extracting  /content/DemoDataset/Train/Covid/10.1016-slash-j.crad.2020.04.002-b.png     \b\b\b\b  2%\b\b\b\b\b  OK \n",
            "Extracting  /content/DemoDataset/Train/Covid/1052b0fe.jpg                \b\b\b\b  2%\b\b\b\b\b  OK \n",
            "Extracting  /content/DemoDataset/Train/Covid/1141cc2b8b9cc394becce5d978b5a7_jumbo.jpeg     \b\b\b\b  2%\b\b\b\b\b  OK \n",
            "Extracting  /content/DemoDataset/Train/Covid/12941_2020_358_Fig1_HTML.jpg     \b\b\b\b  2%\b\b\b\b\b  OK \n",
            "Extracting  /content/DemoDataset/Train/Covid/1312A392-67A3-4EBF-9319-810CF6DA5EF6.jpeg     \b\b\b\b  2%\b\b\b\b\b  OK \n",
            "Extracting  /content/DemoDataset/Train/Covid/16654_1_1.png               \b\b\b\b  3%\b\b\b\b\b  OK \n",
            "Extracting  /content/DemoDataset/Train/Covid/16654_2_1.jpg               \b\b\b\b  3%\b\b\b\b\b  OK \n",
            "Extracting  /content/DemoDataset/Train/Covid/16654_4_1.jpg               \b\b\b\b  3%\b\b\b\b\b  OK \n",
            "Extracting  /content/DemoDataset/Train/Covid/16660_1_1.jpg               \b\b\b\b  3%\b\b\b\b\b  OK \n",
            "Extracting  /content/DemoDataset/Train/Covid/16660_2_1.jpg               \b\b\b\b  3%\b\b\b\b\b  OK \n",
            "Extracting  /content/DemoDataset/Train/Covid/16660_3_1.jpg               \b\b\b\b  3%\b\b\b\b\b  OK \n",
            "Extracting  /content/DemoDataset/Train/Covid/16660_4_1.jpg               \b\b\b\b  3%\b\b\b\b\b  OK \n",
            "Extracting  /content/DemoDataset/Train/Covid/16663_1_1.jpg               \b\b\b\b  3%\b\b\b\b\b  OK \n",
            "Extracting  /content/DemoDataset/Train/Covid/16664_1_1.jpg               \b\b\b\b  4%\b\b\b\b\b  OK \n",
            "Extracting  /content/DemoDataset/Train/Covid/16669_1_1.jpeg              \b\b\b\b  4%\b\b\b\b\b  OK \n",
            "Extracting  /content/DemoDataset/Train/Covid/16669_3_1.jpeg              \b\b\b\b  4%\b\b\b\b\b  OK \n",
            "Extracting  /content/DemoDataset/Train/Covid/16672_1_1.jpg               \b\b\b\b  4%\b\b\b\b\b  OK \n",
            "Extracting  /content/DemoDataset/Train/Covid/16708_1_1.jpg               \b\b\b\b  4%\b\b\b\b\b  OK \n",
            "Extracting  /content/DemoDataset/Train/Covid/16708_4_1.jpg               \b\b\b\b  4%\b\b\b\b\b  OK \n",
            "Extracting  /content/DemoDataset/Train/Covid/16708_5_1.jpg               \b\b\b\b  4%\b\b\b\b\b  OK \n",
            "Extracting  /content/DemoDataset/Train/Covid/16745_5_1.png               \b\b\b\b  4%\b\b\b\b\b  OK \n",
            "Extracting  /content/DemoDataset/Train/Covid/16747_1_1.jpg               \b\b\b\b  4%\b\b\b\b\b  OK \n",
            "Extracting  /content/DemoDataset/Train/Covid/19abe1f3.jpg                \b\b\b\b  4%\b\b\b\b\b  OK \n",
            "Extracting  /content/DemoDataset/Train/Covid/2-chest-filmc.jpg           \b\b\b\b  4%\b\b\b\b\b  OK \n",
            "Extracting  /content/DemoDataset/Train/Covid/2168a917.jpg                \b\b\b\b  5%\b\b\b\b\b  OK \n",
            "Extracting  /content/DemoDataset/Train/Covid/23E99E2E-447C-46E5-8EB2-D35D12473C39.png     \b\b\b\b  5%\b\b\b\b\b  OK \n",
            "Extracting  /content/DemoDataset/Train/Covid/2966893D-5DDF-4B68-9E2B-4979D5956C8E.jpeg     \b\b\b\b  6%\b\b\b\b\b  OK \n",
            "Extracting  /content/DemoDataset/Train/Covid/2C26F453-AF3B-4517-BB9E-802CF2179543.jpeg     \b\b\b\b  6%\b\b\b\b\b  OK \n",
            "Extracting  /content/DemoDataset/Train/Covid/2cd63b76.jpg                \b\b\b\b  6%\b\b\b\b\b  OK \n",
            "Extracting  /content/DemoDataset/Train/Covid/31BA3780-2323-493F-8AED-62081B9C383B.jpeg     \b\b\b\b  6%\b\b\b\b\b  OK \n",
            "Extracting  /content/DemoDataset/Train/Covid/3b46de94.jpg                \b\b\b\b  6%\b\b\b\b  7%\b\b\b\b\b  OK \n",
            "Extracting  /content/DemoDataset/Train/Covid/40779_2020_233_Fig2_HTML-a.png     \b\b\b\b  7%\b\b\b\b\b  OK \n",
            "Extracting  /content/DemoDataset/Train/Covid/41182_2020_203_Fig3_HTML.jpg     \b\b\b\b  7%\b\b\b\b\b  OK \n",
            "Extracting  /content/DemoDataset/Train/Covid/41182_2020_203_Fig4_HTML.jpg     \b\b\b\b  7%\b\b\b\b\b  OK \n",
            "Extracting  /content/DemoDataset/Train/Covid/41182_2020_203_Fig5_HTML.jpg     \b\b\b\b  7%\b\b\b\b\b  OK \n",
            "Extracting  /content/DemoDataset/Train/Covid/41379_2020_536_Fig2_HTML-c1.png     \b\b\b\b  7%\b\b\b\b\b  OK \n",
            "Extracting  /content/DemoDataset/Train/Covid/41591_2020_819_Fig1_HTML.webp-day5.png     \b\b\b\b  7%\b\b\b\b\b  OK \n",
            "Extracting  /content/DemoDataset/Train/Covid/441c9cdd.jpg                \b\b\b\b  7%\b\b\b\b\b  OK \n",
            "Extracting  /content/DemoDataset/Train/Covid/48c4542c.jpg                \b\b\b\b  7%\b\b\b\b\b  OK \n",
            "Extracting  /content/DemoDataset/Train/Covid/4e43e48d52c9e2d4c6c1fb9bc1544f_jumbo.jpeg     \b\b\b\b  7%\b\b\b\b\b  OK \n",
            "Extracting  /content/DemoDataset/Train/Covid/53EC07C9-5CC6-4BE4-9B6F-D7B0D72AAA7E.jpeg     \b\b\b\b  7%\b\b\b\b\b  OK \n",
            "Extracting  /content/DemoDataset/Train/Covid/5782ae15.jpg                \b\b\b\b  7%\b\b\b\b  8%\b\b\b\b\b  OK \n",
            "Extracting  /content/DemoDataset/Train/Covid/58cb9263f16e94305c730685358e4e_jumbo.jpeg     \b\b\b\b  8%\b\b\b\b\b  OK \n",
            "Extracting  /content/DemoDataset/Train/Covid/6b3bdbc31f65230b8cdcc3cef5f8ba8a-40ac-0.jpg     \b\b\b\b  8%\b\b\b\b\b  OK \n",
            "Extracting  /content/DemoDataset/Train/Covid/6C94A287-C059-46A0-8600-AFB95F4727B7.jpeg     \b\b\b\b  8%\b\b\b\b\b  OK \n",
            "Extracting  /content/DemoDataset/Train/Covid/6CB4EFC6-68FA-4CD5-940C-BEFA8DAFE9A7.jpeg     \b\b\b\b  8%\b\b\b\b\b  OK \n",
            "Extracting  /content/DemoDataset/Train/Covid/7-fatal-covid19.jpg         \b\b\b\b  8%\b\b\b\b\b  OK \n",
            "Extracting  /content/DemoDataset/Train/Covid/7AF6C1AF-D249-4BD2-8C26-449304105D03.jpeg     \b\b\b\b  8%\b\b\b\b\b  OK \n",
            "Extracting  /content/DemoDataset/Train/Covid/7afaaccc.jpg                \b\b\b\b  8%\b\b\b\b\b  OK \n",
            "Extracting  /content/DemoDataset/Train/Covid/7C69C012-7479-493F-8722-ABC29C60A2DD.jpeg     \b\b\b\b  8%\b\b\b\b\b  OK \n",
            "Extracting  /content/DemoDataset/Train/Covid/80446565-E090-4187-A031-9D3CEAA586C8.jpeg     \b\b\b\b  8%\b\b\b\b\b  OK \n",
            "Extracting  /content/DemoDataset/Train/Covid/80b5f00f.jpg                \b\b\b\b  9%\b\b\b\b\b  OK \n",
            "Extracting  /content/DemoDataset/Train/Covid/82a78c13.jpg                \b\b\b\b  9%\b\b\b\b\b  OK \n",
            "Extracting  /content/DemoDataset/Train/Covid/85E52EB3-56E9-4D67-82DA-DEA247C82886.jpeg     \b\b\b\b  9%\b\b\b\b\b  OK \n",
            "Extracting  /content/DemoDataset/Train/Covid/88de9d8c39e946abd495b37cd07d89e5-2ee6-0.jpg     \b\b\b\b  9%\b\b\b\b\b  OK \n",
            "Extracting  /content/DemoDataset/Train/Covid/88de9d8c39e946abd495b37cd07d89e5-6531-0.jpg     \b\b\b\b  9%\b\b\b\b\b  OK \n",
            "Extracting  /content/DemoDataset/Train/Covid/8fc103ca.jpg                \b\b\b\b  9%\b\b\b\b\b  OK \n",
            "Extracting  /content/DemoDataset/Train/Covid/8FDE8DBA-CFBD-4B4C-B1A4-6F36A93B7E87.jpeg     \b\b\b\b  9%\b\b\b\b\b  OK \n",
            "Extracting  /content/DemoDataset/Train/Covid/90986ce4.jpg                \b\b\b\b 10%\b\b\b\b\b  OK \n",
            "Extracting  /content/DemoDataset/Train/Covid/93FE0BB1-022D-4F24-9727-987A07975FFB.jpeg     \b\b\b\b 10%\b\b\b\b\b  OK \n",
            "Extracting  /content/DemoDataset/Train/Covid/9C34AF49-E589-44D5-92D3-168B3B04E4A6.jpeg     \b\b\b\b 10%\b\b\b\b\b  OK \n",
            "Extracting  /content/DemoDataset/Train/Covid/a2eba651.jpg                \b\b\b\b 10%\b\b\b\b\b  OK \n",
            "Extracting  /content/DemoDataset/Train/Covid/a361d7b7.jpg                \b\b\b\b 10%\b\b\b\b 11%\b\b\b\b\b  OK \n",
            "Extracting  /content/DemoDataset/Train/Covid/a8ac1969.jpg                \b\b\b\b 11%\b\b\b\b\b  OK \n",
            "Extracting  /content/DemoDataset/Train/Covid/ac4f6e4e.jpg                \b\b\b\b 11%\b\b\b\b\b  OK \n",
            "Extracting  /content/DemoDataset/Train/Covid/ae6c954c0039de4b5edee53865ffee43-e6c8-0.jpg     \b\b\b\b 11%\b\b\b\b\b  OK \n",
            "Extracting  /content/DemoDataset/Train/Covid/all14238-fig-0001-m-b.jpg     \b\b\b\b 11%\b\b\b\b\b  OK \n",
            "Extracting  /content/DemoDataset/Train/Covid/all14238-fig-0001-m-c.jpg     \b\b\b\b 11%\b\b\b\b\b  OK \n",
            "Extracting  /content/DemoDataset/Train/Covid/AR-1.jpg                    \b\b\b\b 11%\b\b\b\b\b  OK \n",
            "Extracting  /content/DemoDataset/Train/Covid/AR-2.jpg                    \b\b\b\b 11%\b\b\b\b\b  OK \n",
            "Extracting  /content/DemoDataset/Train/Covid/article_river_e4d185c06e3511eaa2321d8ab357a1de-c1mn.png     \b\b\b\b 11%\b\b\b\b 12%\b\b\b\b\b  OK \n",
            "Extracting  /content/DemoDataset/Train/Covid/auntminnie-a-2020_01_28_23_51_6665_2020_01_28_Vietnam_coronavirus.jpeg     \b\b\b\b 12%\b\b\b\b\b  OK \n",
            "Extracting  /content/DemoDataset/Train/Covid/auntminnie-b-2020_01_28_23_51_6665_2020_01_28_Vietnam_coronavirus.jpeg     \b\b\b\b 12%\b\b\b\b\b  OK \n",
            "Extracting  /content/DemoDataset/Train/Covid/auntminnie-c-2020_01_28_23_51_6665_2020_01_28_Vietnam_coronavirus.jpeg     \b\b\b\b 12%\b\b\b\b\b  OK \n",
            "Extracting  /content/DemoDataset/Train/Covid/auntminnie-d-2020_01_28_23_51_6665_2020_01_28_Vietnam_coronavirus.jpeg     \b\b\b\b 12%\b\b\b\b\b  OK \n",
            "Extracting  /content/DemoDataset/Train/Covid/b0f1684d1ee90dc09deef015e29dae_jumbo.jpeg     \b\b\b\b 12%\b\b\b\b\b  OK \n",
            "Extracting  /content/DemoDataset/Train/Covid/b9673e89.jpg                \b\b\b\b 12%\b\b\b\b\b  OK \n",
            "Extracting  /content/DemoDataset/Train/Covid/bd10d5e2.jpg                \b\b\b\b 12%\b\b\b\b 13%\b\b\b\b\b  OK \n",
            "Extracting  /content/DemoDataset/Train/Covid/c0f74558.jpg                \b\b\b\b 13%\b\b\b\b\b  OK \n",
            "Extracting  /content/DemoDataset/Train/Covid/c3829ecb.jpg                \b\b\b\b 13%\b\b\b\b\b  OK \n",
            "Extracting  /content/DemoDataset/Train/Covid/c601f50d.jpg                \b\b\b\b 14%\b\b\b\b\b  OK \n",
            "Extracting  /content/DemoDataset/Train/Covid/CD50BA96-6982-4C80-AE7B-5F67ACDBFA56.jpeg     \b\b\b\b 14%\b\b\b\b\b  OK \n",
            "Extracting  /content/DemoDataset/Train/Covid/ciaa199.pdf-001-a.png       \b\b\b\b 14%\b\b\b\b\b  OK \n",
            "Extracting  /content/DemoDataset/Train/Covid/ciaa199.pdf-001-b.png       \b\b\b\b 14%\b\b\b\b\b  OK \n",
            "Extracting  /content/DemoDataset/Train/Covid/covid-19-caso-70-1-PA.jpg     \b\b\b\b 15%\b\b\b\b\b  OK \n",
            "Extracting  /content/DemoDataset/Train/Covid/covid-19-caso-91-1-12.png     \b\b\b\b 15%\b\b\b\b\b  OK \n",
            "Extracting  /content/DemoDataset/Train/Covid/covid-19-caso-94-1-14.png     \b\b\b\b 15%\b\b\b\b\b  OK \n",
            "Extracting  /content/DemoDataset/Train/Covid/covid-19-caso-95-3-14.png     \b\b\b\b 16%\b\b\b\b\b  OK \n",
            "Extracting  /content/DemoDataset/Train/Covid/covid-19-infection-exclusive-gastrointestinal-symptoms-pa.png     \b\b\b\b 16%\b\b\b\b\b  OK \n",
            "Extracting  /content/DemoDataset/Train/Covid/covid-19-pneumonia-12.jpg     \b\b\b\b 18%\b\b\b\b\b  OK \n",
            "Extracting  /content/DemoDataset/Train/Covid/covid-19-pneumonia-14-PA.png     \b\b\b\b 20%\b\b\b\b\b  OK \n",
            "Extracting  /content/DemoDataset/Train/Covid/covid-19-pneumonia-15-PA.jpg     \b\b\b\b 20%\b\b\b\b\b  OK \n",
            "Extracting  /content/DemoDataset/Train/Covid/covid-19-pneumonia-2.jpg     \b\b\b\b 21%\b\b\b\b\b  OK \n",
            "Extracting  /content/DemoDataset/Train/Covid/covid-19-pneumonia-20-pa-on-admission.jpg     \b\b\b\b 21%\b\b\b\b\b  OK \n",
            "Extracting  /content/DemoDataset/Train/Covid/covid-19-pneumonia-20.jpg     \b\b\b\b 21%\b\b\b\b\b  OK \n",
            "Extracting  /content/DemoDataset/Train/Covid/covid-19-pneumonia-28.png     \b\b\b\b 21%\b\b\b\b\b  OK \n",
            "Extracting  /content/DemoDataset/Train/Covid/covid-19-pneumonia-34.png     \b\b\b\b 22%\b\b\b\b\b  OK \n",
            "Extracting  /content/DemoDataset/Train/Covid/covid-19-pneumonia-35-1.jpg     \b\b\b\b 23%\b\b\b\b\b  OK \n",
            "Extracting  /content/DemoDataset/Train/Covid/covid-19-pneumonia-35-2.jpg     \b\b\b\b 23%\b\b\b\b\b  OK \n",
            "Extracting  /content/DemoDataset/Train/Covid/covid-19-pneumonia-38-pa.jpg     \b\b\b\b 23%\b\b\b\b\b  OK \n",
            "Extracting  /content/DemoDataset/Train/Covid/covid-19-pneumonia-44-day-0.jpeg     \b\b\b\b 23%\b\b\b\b\b  OK \n",
            "Extracting  /content/DemoDataset/Train/Covid/covid-19-pneumonia-53.jpg     \b\b\b\b 23%\b\b\b\b\b  OK \n",
            "Extracting  /content/DemoDataset/Train/Covid/covid-19-pneumonia-58-day-10.jpg     \b\b\b\b 24%\b\b\b\b\b  OK \n",
            "Extracting  /content/DemoDataset/Train/Covid/covid-19-pneumonia-58-day-3.jpg     \b\b\b\b 25%\b\b\b\b\b  OK \n",
            "Extracting  /content/DemoDataset/Train/Covid/covid-19-pneumonia-58-day-9.jpg     \b\b\b\b 26%\b\b\b\b\b  OK \n",
            "Extracting  /content/DemoDataset/Train/Covid/covid-19-pneumonia-7-PA.jpg     \b\b\b\b 26%\b\b\b\b\b  OK \n",
            "Extracting  /content/DemoDataset/Train/Covid/covid-19-pneumonia-8.jpg     \b\b\b\b 26%\b\b\b\b\b  OK \n",
            "Extracting  /content/DemoDataset/Train/Covid/covid-19-pneumonia-93.png     \b\b\b\b 27%\b\b\b\b\b  OK \n",
            "Extracting  /content/DemoDataset/Train/Covid/covid-19-pneumonia-bilateral.jpg     \b\b\b\b 28%\b\b\b\b\b  OK \n",
            "Extracting  /content/DemoDataset/Train/Covid/covid-19-pneumonia-evolution-over-a-week-1-day0-PA.jpg     \b\b\b\b 28%\b\b\b\b\b  OK \n",
            "Extracting  /content/DemoDataset/Train/Covid/d9d6ca9a.jpg                \b\b\b\b 28%\b\b\b\b\b  OK \n",
            "Extracting  /content/DemoDataset/Train/Covid/e1446fe8.jpg                \b\b\b\b 28%\b\b\b\b\b  OK \n",
            "Extracting  /content/DemoDataset/Train/Covid/ec083e35.jpg                \b\b\b\b 29%\b\b\b\b\b  OK \n",
            "Extracting  /content/DemoDataset/Train/Covid/extubation-13.jpg           \b\b\b\b 29%\b\b\b\b\b  OK \n",
            "Extracting  /content/DemoDataset/Train/Covid/extubation-8.jpg            \b\b\b\b 29%\b\b\b\b\b  OK \n",
            "Extracting  /content/DemoDataset/Train/Covid/F4341CE7-73C9-45C6-99C8-8567A5484B63.jpeg     \b\b\b\b 29%\b\b\b\b\b  OK \n",
            "Extracting  /content/DemoDataset/Train/Covid/F63AB6CE-1968-4154-A70F-913AF154F53D.jpeg     \b\b\b\b 29%\b\b\b\b\b  OK \n",
            "Extracting  /content/DemoDataset/Train/Covid/f64132c8.jpg                \b\b\b\b 29%\b\b\b\b\b  OK \n",
            "Extracting  /content/DemoDataset/Train/Covid/f6575117.jpg                \b\b\b\b 29%\b\b\b\b\b  OK \n",
            "Extracting  /content/DemoDataset/Train/Covid/f6d980a0.jpg                \b\b\b\b 30%\b\b\b\b\b  OK \n",
            "Extracting  /content/DemoDataset/Train/Covid/FE9F9A5D-2830-46F9-851B-1FF4534959BE.jpeg     \b\b\b\b 30%\b\b\b\b\b  OK \n",
            "Extracting  /content/DemoDataset/Train/Covid/figure1-5e71be566aa8714a04de3386-98-left.jpeg     \b\b\b\b 30%\b\b\b\b\b  OK \n",
            "Extracting  /content/DemoDataset/Train/Covid/figure1-5e75d0940b71e1b702629659-98-right.jpeg     \b\b\b\b 30%\b\b\b\b\b  OK \n",
            "Extracting  /content/DemoDataset/Train/Covid/gr1_lrg-a.jpg               \b\b\b\b 30%\b\b\b\b\b  OK \n",
            "Extracting  /content/DemoDataset/Train/Covid/gr1_lrg-b.jpg               \b\b\b\b 30%\b\b\b\b\b  OK \n",
            "Extracting  /content/DemoDataset/Train/Covid/kjr-21-e24-g001-l-a.jpg     \b\b\b\b 30%\b\b\b\b\b  OK \n",
            "Extracting  /content/DemoDataset/Train/Covid/kjr-21-e24-g002-l-a.jpg     \b\b\b\b 30%\b\b\b\b\b  OK \n",
            "Extracting  /content/DemoDataset/Train/Covid/kjr-21-e24-g003-l-a.jpg     \b\b\b\b 30%\b\b\b\b\b  OK \n",
            "Extracting  /content/DemoDataset/Train/Covid/kjr-21-e25-g001-l-a.jpg     \b\b\b\b 30%\b\b\b\b\b  OK \n",
            "Extracting  /content/DemoDataset/Train/Covid/lancet-case2b.jpg           \b\b\b\b 31%\b\b\b\b\b  OK \n",
            "Extracting  /content/DemoDataset/Train/Covid/nCoV-radiol.2020200269.fig1-day7.jpeg     \b\b\b\b 31%\b\b\b\b\b  OK \n",
            "Extracting  /content/DemoDataset/Train/Covid/nejmc2001573_f1b.jpeg       \b\b\b\b 31%\b\b\b\b\b  OK \n",
            "Extracting  /content/DemoDataset/Train/Covid/nejmoa2001191_f1-PA.jpeg     \b\b\b\b 31%\b\b\b\b\b  OK \n",
            "Extracting  /content/DemoDataset/Train/Covid/nejmoa2001191_f3-PA.jpeg     \b\b\b\b 31%\b\b\b\b\b  OK \n",
            "Extracting  /content/DemoDataset/Train/Covid/nejmoa2001191_f4.jpeg       \b\b\b\b 31%\b\b\b\b\b  OK \n",
            "Extracting  /content/DemoDataset/Train/Covid/paving.jpg                  \b\b\b\b 31%\b\b\b\b\b  OK \n",
            "Extracting  /content/DemoDataset/Train/Covid/radiol.2020200274.fig3d.png     \b\b\b\b 31%\b\b\b\b\b  OK \n",
            "Extracting  /content/DemoDataset/Train/Covid/radiol.2020200490.fig3.jpeg     \b\b\b\b 31%\b\b\b\b\b  OK \n",
            "Extracting  /content/DemoDataset/Train/Covid/ryct.2020200028.fig1a.jpeg     \b\b\b\b 32%\b\b\b\b\b  OK \n",
            "Extracting  /content/DemoDataset/Train/Covid/ryct.2020200034.fig2.jpeg     \b\b\b\b 32%\b\b\b\b\b  OK \n",
            "Extracting  /content/DemoDataset/Train/Covid/ryct.2020200034.fig5-day0.jpeg     \b\b\b\b 32%\b\b\b\b\b  OK \n",
            "Extracting  /content/DemoDataset/Train/Covid/ryct.2020200034.fig5-day4.jpeg     \b\b\b\b 33%\b\b\b\b\b  OK \n",
            "Extracting  /content/DemoDataset/Train/Covid/ryct.2020200034.fig5-day7.jpeg     \b\b\b\b 33%\b\b\b\b\b  OK \n",
            "Extracting  /content/DemoDataset/Train/Covid/thnov10p5641g006-c.png      \b\b\b\b 33%\b\b\b\b\b  OK \n",
            "Extracting  /content/DemoDataset/Train/Covid/tpmd200203f2-b.png          \b\b\b\b 33%\b\b\b\b\b  OK \n",
            "Extracting  /content/DemoDataset/Train/Covid/tpmd200203f2-c.png          \b\b\b\b 33%\b\b\b\b 34%\b\b\b\b\b  OK \n",
            "Extracting  /content/DemoDataset/Train/Covid/yxppt-2020-02-19_00-51-27_287214-day8.jpg     \b\b\b\b 34%\b\b\b\b\b  OK \n",
            "Creating    /content/DemoDataset/Train/Normal                         OK\n",
            "Extracting  /content/DemoDataset/Train/Normal/IM-0137-0001.jpeg          \b\b\b\b 34%\b\b\b\b\b  OK \n",
            "Extracting  /content/DemoDataset/Train/Normal/IM-0151-0001.jpeg          \b\b\b\b 34%\b\b\b\b\b  OK \n",
            "Extracting  /content/DemoDataset/Train/Normal/IM-0176-0001.jpeg          \b\b\b\b 34%\b\b\b\b\b  OK \n",
            "Extracting  /content/DemoDataset/Train/Normal/IM-0213-0001.jpeg          \b\b\b\b 35%\b\b\b\b\b  OK \n",
            "Extracting  /content/DemoDataset/Train/Normal/IM-0215-0001.jpeg          \b\b\b\b 35%\b\b\b\b\b  OK \n",
            "Extracting  /content/DemoDataset/Train/Normal/IM-0218-0001.jpeg          \b\b\b\b 35%\b\b\b\b\b  OK \n",
            "Extracting  /content/DemoDataset/Train/Normal/IM-0226-0001.jpeg          \b\b\b\b 35%\b\b\b\b\b  OK \n",
            "Extracting  /content/DemoDataset/Train/Normal/IM-0228-0001.jpeg          \b\b\b\b 36%\b\b\b\b\b  OK \n",
            "Extracting  /content/DemoDataset/Train/Normal/IM-0243-0001.jpeg          \b\b\b\b 36%\b\b\b\b\b  OK \n",
            "Extracting  /content/DemoDataset/Train/Normal/IM-0245-0001.jpeg          \b\b\b\b 36%\b\b\b\b\b  OK \n",
            "Extracting  /content/DemoDataset/Train/Normal/IM-0261-0001.jpeg          \b\b\b\b 37%\b\b\b\b\b  OK \n",
            "Extracting  /content/DemoDataset/Train/Normal/IM-0268-0001.jpeg          \b\b\b\b 37%\b\b\b\b\b  OK \n",
            "Extracting  /content/DemoDataset/Train/Normal/IM-0279-0001.jpeg          \b\b\b\b 37%\b\b\b\b\b  OK \n",
            "Extracting  /content/DemoDataset/Train/Normal/IM-0283-0001.jpeg          \b\b\b\b 37%\b\b\b\b\b  OK \n",
            "Extracting  /content/DemoDataset/Train/Normal/IM-0293-0001.jpeg          \b\b\b\b 38%\b\b\b\b\b  OK \n",
            "Extracting  /content/DemoDataset/Train/Normal/IM-0294-0001.jpeg          \b\b\b\b 38%\b\b\b\b\b  OK \n",
            "Extracting  /content/DemoDataset/Train/Normal/IM-0323-0001.jpeg          \b\b\b\b 38%\b\b\b\b\b  OK \n",
            "Extracting  /content/DemoDataset/Train/Normal/IM-0325-0001.jpeg          \b\b\b\b 38%\b\b\b\b\b  OK \n",
            "Extracting  /content/DemoDataset/Train/Normal/IM-0331-0001.jpeg          \b\b\b\b 39%\b\b\b\b\b  OK \n",
            "Extracting  /content/DemoDataset/Train/Normal/IM-0364-0001.jpeg          \b\b\b\b 39%\b\b\b\b\b  OK \n",
            "Extracting  /content/DemoDataset/Train/Normal/IM-0387-0001.jpeg          \b\b\b\b 39%\b\b\b\b\b  OK \n",
            "Extracting  /content/DemoDataset/Train/Normal/IM-0408-0001.jpeg          \b\b\b\b 39%\b\b\b\b\b  OK \n",
            "Extracting  /content/DemoDataset/Train/Normal/IM-0417-0001.jpeg          \b\b\b\b 40%\b\b\b\b\b  OK \n",
            "Extracting  /content/DemoDataset/Train/Normal/IM-0423-0001.jpeg          \b\b\b\b 40%\b\b\b\b\b  OK \n",
            "Extracting  /content/DemoDataset/Train/Normal/IM-0451-0001.jpeg          \b\b\b\b 40%\b\b\b\b\b  OK \n",
            "Extracting  /content/DemoDataset/Train/Normal/IM-0452-0001.jpeg          \b\b\b\b 41%\b\b\b\b\b  OK \n",
            "Extracting  /content/DemoDataset/Train/Normal/IM-0477-0001.jpeg          \b\b\b\b 41%\b\b\b\b\b  OK \n",
            "Extracting  /content/DemoDataset/Train/Normal/IM-0479-0001.jpeg          \b\b\b\b 41%\b\b\b\b\b  OK \n",
            "Extracting  /content/DemoDataset/Train/Normal/IM-0496-0001.jpeg          \b\b\b\b 42%\b\b\b\b\b  OK \n",
            "Extracting  /content/DemoDataset/Train/Normal/IM-0505-0001-0001.jpeg     \b\b\b\b 42%\b\b\b\b\b  OK \n",
            "Extracting  /content/DemoDataset/Train/Normal/IM-0509-0001.jpeg          \b\b\b\b 42%\b\b\b\b\b  OK \n",
            "Extracting  /content/DemoDataset/Train/Normal/IM-0513-0001.jpeg          \b\b\b\b 42%\b\b\b\b\b  OK \n",
            "Extracting  /content/DemoDataset/Train/Normal/IM-0517-0001.jpeg          \b\b\b\b 43%\b\b\b\b\b  OK \n",
            "Extracting  /content/DemoDataset/Train/Normal/IM-0519-0001.jpeg          \b\b\b\b 43%\b\b\b\b\b  OK \n",
            "Extracting  /content/DemoDataset/Train/Normal/IM-0523-0001-0001.jpeg     \b\b\b\b 43%\b\b\b\b\b  OK \n",
            "Extracting  /content/DemoDataset/Train/Normal/IM-0523-0001-0002.jpeg     \b\b\b\b 44%\b\b\b\b\b  OK \n",
            "Extracting  /content/DemoDataset/Train/Normal/IM-0525-0001-0001.jpeg     \b\b\b\b 44%\b\b\b\b\b  OK \n",
            "Extracting  /content/DemoDataset/Train/Normal/IM-0529-0001.jpeg          \b\b\b\b 44%\b\b\b\b\b  OK \n",
            "Extracting  /content/DemoDataset/Train/Normal/IM-0531-0001-0001.jpeg     \b\b\b\b 44%\b\b\b\b\b  OK \n",
            "Extracting  /content/DemoDataset/Train/Normal/IM-0542-0001.jpeg          \b\b\b\b 45%\b\b\b\b\b  OK \n",
            "Extracting  /content/DemoDataset/Train/Normal/IM-0545-0001-0002.jpeg     \b\b\b\b 45%\b\b\b\b\b  OK \n",
            "Extracting  /content/DemoDataset/Train/Normal/IM-0549-0001-0001.jpeg     \b\b\b\b 45%\b\b\b\b\b  OK \n",
            "Extracting  /content/DemoDataset/Train/Normal/IM-0551-0001-0001.jpeg     \b\b\b\b 46%\b\b\b\b\b  OK \n",
            "Extracting  /content/DemoDataset/Train/Normal/IM-0568-0001.jpeg          \b\b\b\b 46%\b\b\b\b\b  OK \n",
            "Extracting  /content/DemoDataset/Train/Normal/IM-0596-0001.jpeg          \b\b\b\b 46%\b\b\b\b\b  OK \n",
            "Extracting  /content/DemoDataset/Train/Normal/IM-0612-0001-0001.jpeg     \b\b\b\b 46%\b\b\b\b\b  OK \n",
            "Extracting  /content/DemoDataset/Train/Normal/IM-0619-0001.jpeg          \b\b\b\b 47%\b\b\b\b\b  OK \n",
            "Extracting  /content/DemoDataset/Train/Normal/IM-0629-0001-0001.jpeg     \b\b\b\b 47%\b\b\b\b\b  OK \n",
            "Extracting  /content/DemoDataset/Train/Normal/IM-0631-0001-0002.jpeg     \b\b\b\b 47%\b\b\b\b\b  OK \n",
            "Extracting  /content/DemoDataset/Train/Normal/IM-0644-0001-0001.jpeg     \b\b\b\b 47%\b\b\b\b\b  OK \n",
            "Extracting  /content/DemoDataset/Train/Normal/IM-0650-0001-0001.jpeg     \b\b\b\b 48%\b\b\b\b\b  OK \n",
            "Extracting  /content/DemoDataset/Train/Normal/IM-0656-0001-0001.jpeg     \b\b\b\b 48%\b\b\b\b\b  OK \n",
            "Extracting  /content/DemoDataset/Train/Normal/IM-0658-0001.jpeg          \b\b\b\b 49%\b\b\b\b\b  OK \n",
            "Extracting  /content/DemoDataset/Train/Normal/IM-0659-0001.jpeg          \b\b\b\b 49%\b\b\b\b\b  OK \n",
            "Extracting  /content/DemoDataset/Train/Normal/IM-0677-0001.jpeg          \b\b\b\b 49%\b\b\b\b\b  OK \n",
            "Extracting  /content/DemoDataset/Train/Normal/IM-0678-0001.jpeg          \b\b\b\b 49%\b\b\b\b\b  OK \n",
            "Extracting  /content/DemoDataset/Train/Normal/IM-0687-0001.jpeg          \b\b\b\b 50%\b\b\b\b\b  OK \n",
            "Extracting  /content/DemoDataset/Train/Normal/IM-0696-0001.jpeg          \b\b\b\b 50%\b\b\b\b\b  OK \n",
            "Extracting  /content/DemoDataset/Train/Normal/IM-0702-0001.jpeg          \b\b\b\b 50%\b\b\b\b\b  OK \n",
            "Extracting  /content/DemoDataset/Train/Normal/IM-0705-0001.jpeg          \b\b\b\b 51%\b\b\b\b\b  OK \n",
            "Extracting  /content/DemoDataset/Train/Normal/IM-0713-0001.jpeg          \b\b\b\b 51%\b\b\b\b\b  OK \n",
            "Extracting  /content/DemoDataset/Train/Normal/IM-0714-0001.jpeg          \b\b\b\b 51%\b\b\b\b\b  OK \n",
            "Extracting  /content/DemoDataset/Train/Normal/IM-0739-0001.jpeg          \b\b\b\b 51%\b\b\b\b\b  OK \n",
            "Extracting  /content/DemoDataset/Train/Normal/IM-0753-0001.jpeg          \b\b\b\b 51%\b\b\b\b\b  OK \n",
            "Extracting  /content/DemoDataset/Train/Normal/IM-0757-0001.jpeg          \b\b\b\b 52%\b\b\b\b\b  OK \n",
            "Extracting  /content/DemoDataset/Train/Normal/IM-0764-0001.jpeg          \b\b\b\b 52%\b\b\b\b\b  OK \n",
            "Extracting  /content/DemoDataset/Train/Normal/NORMAL2-IM-0395-0001-0001.jpeg     \b\b\b\b 52%\b\b\b\b\b  OK \n",
            "Extracting  /content/DemoDataset/Train/Normal/NORMAL2-IM-0395-0001-0002.jpeg     \b\b\b\b 52%\b\b\b\b\b  OK \n",
            "Extracting  /content/DemoDataset/Train/Normal/NORMAL2-IM-0416-0001-0002.jpeg     \b\b\b\b 52%\b\b\b\b\b  OK \n",
            "Extracting  /content/DemoDataset/Train/Normal/NORMAL2-IM-0423-0001.jpeg     \b\b\b\b 53%\b\b\b\b\b  OK \n",
            "Extracting  /content/DemoDataset/Train/Normal/NORMAL2-IM-0424-0001.jpeg     \b\b\b\b 53%\b\b\b\b\b  OK \n",
            "Extracting  /content/DemoDataset/Train/Normal/NORMAL2-IM-0455-0001.jpeg     \b\b\b\b 53%\b\b\b\b\b  OK \n",
            "Extracting  /content/DemoDataset/Train/Normal/NORMAL2-IM-0456-0001.jpeg     \b\b\b\b 54%\b\b\b\b\b  OK \n",
            "Extracting  /content/DemoDataset/Train/Normal/NORMAL2-IM-0479-0001.jpeg     \b\b\b\b 54%\b\b\b\b\b  OK \n",
            "Extracting  /content/DemoDataset/Train/Normal/NORMAL2-IM-0511-0001.jpeg     \b\b\b\b 54%\b\b\b\b\b  OK \n",
            "Extracting  /content/DemoDataset/Train/Normal/NORMAL2-IM-0517-0001.jpeg     \b\b\b\b 54%\b\b\b\b\b  OK \n",
            "Extracting  /content/DemoDataset/Train/Normal/NORMAL2-IM-0550-0001.jpeg     \b\b\b\b 55%\b\b\b\b\b  OK \n",
            "Extracting  /content/DemoDataset/Train/Normal/NORMAL2-IM-0561-0001.jpeg     \b\b\b\b 55%\b\b\b\b\b  OK \n",
            "Extracting  /content/DemoDataset/Train/Normal/NORMAL2-IM-0571-0001.jpeg     \b\b\b\b 55%\b\b\b\b\b  OK \n",
            "Extracting  /content/DemoDataset/Train/Normal/NORMAL2-IM-0576-0001.jpeg     \b\b\b\b 55%\b\b\b\b\b  OK \n",
            "Extracting  /content/DemoDataset/Train/Normal/NORMAL2-IM-0578-0001.jpeg     \b\b\b\b 56%\b\b\b\b\b  OK \n",
            "Extracting  /content/DemoDataset/Train/Normal/NORMAL2-IM-0585-0001.jpeg     \b\b\b\b 56%\b\b\b\b\b  OK \n",
            "Extracting  /content/DemoDataset/Train/Normal/NORMAL2-IM-0587-0001-0002.jpeg     \b\b\b\b 57%\b\b\b\b\b  OK \n",
            "Extracting  /content/DemoDataset/Train/Normal/NORMAL2-IM-0621-0001.jpeg     \b\b\b\b 58%\b\b\b\b\b  OK \n",
            "Extracting  /content/DemoDataset/Train/Normal/NORMAL2-IM-0623-0001.jpeg     \b\b\b\b 58%\b\b\b\b\b  OK \n",
            "Extracting  /content/DemoDataset/Train/Normal/NORMAL2-IM-0648-0001.jpeg     \b\b\b\b 58%\b\b\b\b\b  OK \n",
            "Extracting  /content/DemoDataset/Train/Normal/NORMAL2-IM-0653-0001.jpeg     \b\b\b\b 59%\b\b\b\b\b  OK \n",
            "Extracting  /content/DemoDataset/Train/Normal/NORMAL2-IM-0660-0001.jpeg     \b\b\b\b 59%\b\b\b\b\b  OK \n",
            "Extracting  /content/DemoDataset/Train/Normal/NORMAL2-IM-0662-0001.jpeg     \b\b\b\b 59%\b\b\b\b\b  OK \n",
            "Extracting  /content/DemoDataset/Train/Normal/NORMAL2-IM-0663-0001.jpeg     \b\b\b\b 60%\b\b\b\b\b  OK \n",
            "Extracting  /content/DemoDataset/Train/Normal/NORMAL2-IM-0672-0001.jpeg     \b\b\b\b 60%\b\b\b\b\b  OK \n",
            "Extracting  /content/DemoDataset/Train/Normal/NORMAL2-IM-0673-0001.jpeg     \b\b\b\b 60%\b\b\b\b\b  OK \n",
            "Extracting  /content/DemoDataset/Train/Normal/NORMAL2-IM-0686-0001.jpeg     \b\b\b\b 60%\b\b\b\b\b  OK \n",
            "Extracting  /content/DemoDataset/Train/Normal/NORMAL2-IM-0687-0001.jpeg     \b\b\b\b 61%\b\b\b\b\b  OK \n",
            "Extracting  /content/DemoDataset/Train/Normal/NORMAL2-IM-0719-0001.jpeg     \b\b\b\b 61%\b\b\b\b\b  OK \n",
            "Extracting  /content/DemoDataset/Train/Normal/NORMAL2-IM-0744-0001.jpeg     \b\b\b\b 61%\b\b\b\b\b  OK \n",
            "Extracting  /content/DemoDataset/Train/Normal/NORMAL2-IM-0757-0001.jpeg     \b\b\b\b 61%\b\b\b\b\b  OK \n",
            "Extracting  /content/DemoDataset/Train/Normal/NORMAL2-IM-0771-0001.jpeg     \b\b\b\b 61%\b\b\b\b\b  OK \n",
            "Extracting  /content/DemoDataset/Train/Normal/NORMAL2-IM-0772-0001.jpeg     \b\b\b\b 61%\b\b\b\b\b  OK \n",
            "Extracting  /content/DemoDataset/Train/Normal/NORMAL2-IM-0780-0001.jpeg     \b\b\b\b 62%\b\b\b\b\b  OK \n",
            "Extracting  /content/DemoDataset/Train/Normal/NORMAL2-IM-0808-0001.jpeg     \b\b\b\b 62%\b\b\b\b\b  OK \n",
            "Extracting  /content/DemoDataset/Train/Normal/NORMAL2-IM-0809-0001.jpeg     \b\b\b\b 62%\b\b\b\b\b  OK \n",
            "Extracting  /content/DemoDataset/Train/Normal/NORMAL2-IM-0816-0001.jpeg     \b\b\b\b 62%\b\b\b\b\b  OK \n",
            "Extracting  /content/DemoDataset/Train/Normal/NORMAL2-IM-0827-0001.jpeg     \b\b\b\b 63%\b\b\b\b\b  OK \n",
            "Extracting  /content/DemoDataset/Train/Normal/NORMAL2-IM-0829-0001.jpeg     \b\b\b\b 63%\b\b\b\b\b  OK \n",
            "Extracting  /content/DemoDataset/Train/Normal/NORMAL2-IM-0847-0001.jpeg     \b\b\b\b 63%\b\b\b\b\b  OK \n",
            "Extracting  /content/DemoDataset/Train/Normal/NORMAL2-IM-0909-0001.jpeg     \b\b\b\b 64%\b\b\b\b\b  OK \n",
            "Extracting  /content/DemoDataset/Train/Normal/NORMAL2-IM-0950-0001.jpeg     \b\b\b\b 64%\b\b\b\b\b  OK \n",
            "Extracting  /content/DemoDataset/Train/Normal/NORMAL2-IM-0955-0001.jpeg     \b\b\b\b 64%\b\b\b\b\b  OK \n",
            "Extracting  /content/DemoDataset/Train/Normal/NORMAL2-IM-0957-0001.jpeg     \b\b\b\b 65%\b\b\b\b\b  OK \n",
            "Extracting  /content/DemoDataset/Train/Normal/NORMAL2-IM-0962-0001.jpeg     \b\b\b\b 65%\b\b\b\b\b  OK \n",
            "Extracting  /content/DemoDataset/Train/Normal/NORMAL2-IM-0965-0001.jpeg     \b\b\b\b 66%\b\b\b\b\b  OK \n",
            "Extracting  /content/DemoDataset/Train/Normal/NORMAL2-IM-0974-0001.jpeg     \b\b\b\b 66%\b\b\b\b\b  OK \n",
            "Extracting  /content/DemoDataset/Train/Normal/NORMAL2-IM-0976-0001.jpeg     \b\b\b\b 66%\b\b\b\b\b  OK \n",
            "Extracting  /content/DemoDataset/Train/Normal/NORMAL2-IM-0983-0001-0001.jpeg     \b\b\b\b 66%\b\b\b\b\b  OK \n",
            "Extracting  /content/DemoDataset/Train/Normal/NORMAL2-IM-0995-0001.jpeg     \b\b\b\b 67%\b\b\b\b\b  OK \n",
            "Extracting  /content/DemoDataset/Train/Normal/NORMAL2-IM-1028-0001.jpeg     \b\b\b\b 67%\b\b\b\b\b  OK \n",
            "Extracting  /content/DemoDataset/Train/Normal/NORMAL2-IM-1043-0001.jpeg     \b\b\b\b 67%\b\b\b\b\b  OK \n",
            "Extracting  /content/DemoDataset/Train/Normal/NORMAL2-IM-1044-0001.jpeg     \b\b\b\b 68%\b\b\b\b\b  OK \n",
            "Extracting  /content/DemoDataset/Train/Normal/NORMAL2-IM-1056-0001.jpeg     \b\b\b\b 68%\b\b\b\b\b  OK \n",
            "Extracting  /content/DemoDataset/Train/Normal/NORMAL2-IM-1093-0001.jpeg     \b\b\b\b 68%\b\b\b\b\b  OK \n",
            "Extracting  /content/DemoDataset/Train/Normal/NORMAL2-IM-1094-0001-0001.jpeg     \b\b\b\b 68%\b\b\b\b\b  OK \n",
            "Extracting  /content/DemoDataset/Train/Normal/NORMAL2-IM-1094-0001.jpeg     \b\b\b\b 69%\b\b\b\b\b  OK \n",
            "Extracting  /content/DemoDataset/Train/Normal/NORMAL2-IM-1096-0001.jpeg     \b\b\b\b 69%\b\b\b\b\b  OK \n",
            "Extracting  /content/DemoDataset/Train/Normal/NORMAL2-IM-1102-0001-0002.jpeg     \b\b\b\b 69%\b\b\b\b\b  OK \n",
            "Extracting  /content/DemoDataset/Train/Normal/NORMAL2-IM-1103-0001-0001.jpeg     \b\b\b\b 69%\b\b\b\b\b  OK \n",
            "Extracting  /content/DemoDataset/Train/Normal/NORMAL2-IM-1116-0001-0002.jpeg     \b\b\b\b 70%\b\b\b\b\b  OK \n",
            "Extracting  /content/DemoDataset/Train/Normal/NORMAL2-IM-1116-0001.jpeg     \b\b\b\b 70%\b\b\b\b\b  OK \n",
            "Extracting  /content/DemoDataset/Train/Normal/NORMAL2-IM-1142-0001-0002.jpeg     \b\b\b\b 70%\b\b\b\b\b  OK \n",
            "Extracting  /content/DemoDataset/Train/Normal/NORMAL2-IM-1154-0001-0002.jpeg     \b\b\b\b 71%\b\b\b\b\b  OK \n",
            "Extracting  /content/DemoDataset/Train/Normal/NORMAL2-IM-1163-0001.jpeg     \b\b\b\b 71%\b\b\b\b\b  OK \n",
            "Extracting  /content/DemoDataset/Train/Normal/NORMAL2-IM-1168-0001.jpeg     \b\b\b\b 71%\b\b\b\b\b  OK \n",
            "Extracting  /content/DemoDataset/Train/Normal/NORMAL2-IM-1171-0001.jpeg     \b\b\b\b 72%\b\b\b\b\b  OK \n",
            "Extracting  /content/DemoDataset/Train/Normal/NORMAL2-IM-1175-0001.jpeg     \b\b\b\b 72%\b\b\b\b\b  OK \n",
            "Extracting  /content/DemoDataset/Train/Normal/NORMAL2-IM-1189-0001.jpeg     \b\b\b\b 72%\b\b\b\b\b  OK \n",
            "Extracting  /content/DemoDataset/Train/Normal/NORMAL2-IM-1194-0001.jpeg     \b\b\b\b 72%\b\b\b\b\b  OK \n",
            "Extracting  /content/DemoDataset/Train/Normal/NORMAL2-IM-1203-0001.jpeg     \b\b\b\b 72%\b\b\b\b\b  OK \n",
            "Extracting  /content/DemoDataset/Train/Normal/NORMAL2-IM-1204-0001.jpeg     \b\b\b\b 73%\b\b\b\b\b  OK \n",
            "Extracting  /content/DemoDataset/Train/Normal/NORMAL2-IM-1214-0001.jpeg     \b\b\b\b 73%\b\b\b\b\b  OK \n",
            "Extracting  /content/DemoDataset/Train/Normal/NORMAL2-IM-1220-0001.jpeg     \b\b\b\b 73%\b\b\b\b\b  OK \n",
            "Extracting  /content/DemoDataset/Train/Normal/NORMAL2-IM-1222-0001.jpeg     \b\b\b\b 73%\b\b\b\b\b  OK \n",
            "Extracting  /content/DemoDataset/Train/Normal/NORMAL2-IM-1223-0001.jpeg     \b\b\b\b 73%\b\b\b\b\b  OK \n",
            "Extracting  /content/DemoDataset/Train/Normal/NORMAL2-IM-1225-0001.jpeg     \b\b\b\b 74%\b\b\b\b\b  OK \n",
            "Extracting  /content/DemoDataset/Train/Normal/NORMAL2-IM-1226-0001.jpeg     \b\b\b\b 74%\b\b\b\b\b  OK \n",
            "Extracting  /content/DemoDataset/Train/Normal/NORMAL2-IM-1227-0001.jpeg     \b\b\b\b 74%\b\b\b\b\b  OK \n",
            "Extracting  /content/DemoDataset/Train/Normal/NORMAL2-IM-1244-0001.jpeg     \b\b\b\b 74%\b\b\b\b\b  OK \n",
            "Extracting  /content/DemoDataset/Train/Normal/NORMAL2-IM-1245-0001.jpeg     \b\b\b\b 75%\b\b\b\b\b  OK \n",
            "Extracting  /content/DemoDataset/Train/Normal/NORMAL2-IM-1254-0001.jpeg     \b\b\b\b 75%\b\b\b\b\b  OK \n",
            "Extracting  /content/DemoDataset/Train/Normal/NORMAL2-IM-1271-0001.jpeg     \b\b\b\b 76%\b\b\b\b\b  OK \n",
            "Extracting  /content/DemoDataset/Train/Normal/NORMAL2-IM-1276-0001.jpeg     \b\b\b\b 76%\b\b\b\b\b  OK \n",
            "Extracting  /content/DemoDataset/Train/Normal/NORMAL2-IM-1281-0001.jpeg     \b\b\b\b 76%\b\b\b\b\b  OK \n",
            "Extracting  /content/DemoDataset/Train/Normal/NORMAL2-IM-1286-0001.jpeg     \b\b\b\b 76%\b\b\b\b\b  OK \n",
            "Extracting  /content/DemoDataset/Train/Normal/NORMAL2-IM-1289-0001.jpeg     \b\b\b\b 77%\b\b\b\b\b  OK \n",
            "Extracting  /content/DemoDataset/Train/Normal/NORMAL2-IM-1300-0001.jpeg     \b\b\b\b 77%\b\b\b\b\b  OK \n",
            "Extracting  /content/DemoDataset/Train/Normal/NORMAL2-IM-1302-0001.jpeg     \b\b\b\b 78%\b\b\b\b\b  OK \n",
            "Extracting  /content/DemoDataset/Train/Normal/NORMAL2-IM-1306-0001.jpeg     \b\b\b\b 79%\b\b\b\b\b  OK \n",
            "Extracting  /content/DemoDataset/Train/Normal/NORMAL2-IM-1317-0001.jpeg     \b\b\b\b 79%\b\b\b\b\b  OK \n",
            "Extracting  /content/DemoDataset/Train/Normal/NORMAL2-IM-1321-0001.jpeg     \b\b\b\b 79%\b\b\b\b\b  OK \n",
            "Extracting  /content/DemoDataset/Train/Normal/NORMAL2-IM-1323-0001.jpeg     \b\b\b\b 79%\b\b\b\b\b  OK \n",
            "Extracting  /content/DemoDataset/Train/Normal/NORMAL2-IM-1341-0001.jpeg     \b\b\b\b 80%\b\b\b\b\b  OK \n",
            "Extracting  /content/DemoDataset/Train/Normal/NORMAL2-IM-1342-0001.jpeg     \b\b\b\b 80%\b\b\b\b\b  OK \n",
            "Extracting  /content/DemoDataset/Train/Normal/NORMAL2-IM-1345-0001.jpeg     \b\b\b\b 80%\b\b\b\b\b  OK \n",
            "Extracting  /content/DemoDataset/Train/Normal/NORMAL2-IM-1360-0001.jpeg     \b\b\b\b 80%\b\b\b\b\b  OK \n",
            "Extracting  /content/DemoDataset/Train/Normal/NORMAL2-IM-1412-0001.jpeg     \b\b\b\b 80%\b\b\b\b\b  OK \n",
            "Creating    /content/DemoDataset/Val                                  OK\n",
            "Creating    /content/DemoDataset/Val/Covid                            OK\n",
            "Extracting  /content/DemoDataset/Val/Covid/03BF7561-A9BA-4C3C-B8A0-D3E585F73F3C.jpeg     \b\b\b\b 81%\b\b\b\b\b  OK \n",
            "Extracting  /content/DemoDataset/Val/Covid/0a7faa2a.jpg                  \b\b\b\b 81%\b\b\b\b\b  OK \n",
            "Extracting  /content/DemoDataset/Val/Covid/1-s2.0-S1684118220300682-main.pdf-002-a1.png     \b\b\b\b 81%\b\b\b\b\b  OK \n",
            "Extracting  /content/DemoDataset/Val/Covid/1-s2.0-S2387020620301959-gr4_lrg-c.png     \b\b\b\b 81%\b\b\b\b\b  OK \n",
            "Extracting  /content/DemoDataset/Val/Covid/1.CXRCTThoraximagesofCOVID-19fromSingapore.pdf-000-fig1a.png     \b\b\b\b 81%\b\b\b\b\b  OK \n",
            "Extracting  /content/DemoDataset/Val/Covid/1.CXRCTThoraximagesofCOVID-19fromSingapore.pdf-003-fig4a.png     \b\b\b\b 81%\b\b\b\b\b  OK \n",
            "Extracting  /content/DemoDataset/Val/Covid/10.1016-slash-j.crad.2020.04.002-a.png     \b\b\b\b 81%\b\b\b\b\b  OK \n",
            "Extracting  /content/DemoDataset/Val/Covid/14d81f378173b86cc53f21d2d67040_jumbo.jpeg     \b\b\b\b 81%\b\b\b\b\b  OK \n",
            "Extracting  /content/DemoDataset/Val/Covid/1B734A89-A1BF-49A8-A1D3-66FAFA4FAC5D.jpeg     \b\b\b\b 82%\b\b\b\b\b  OK \n",
            "Extracting  /content/DemoDataset/Val/Covid/353889E0-A1E8-4F9E-A0B8-F24F36BCFBFB.jpeg     \b\b\b\b 82%\b\b\b\b\b  OK \n",
            "Extracting  /content/DemoDataset/Val/Covid/41591_2020_819_Fig1_HTML.webp-day10.png     \b\b\b\b 82%\b\b\b\b\b  OK \n",
            "Extracting  /content/DemoDataset/Val/Covid/4d98e1de.jpg                  \b\b\b\b 82%\b\b\b\b 83%\b\b\b\b\b  OK \n",
            "Extracting  /content/DemoDataset/Val/Covid/5f619d7e.jpg                  \b\b\b\b 83%\b\b\b\b\b  OK \n",
            "Extracting  /content/DemoDataset/Val/Covid/6b44464d-73a7-4cf3-bbb6-ffe7168300e3.annot.original.jpeg     \b\b\b\b 83%\b\b\b\b\b  OK \n",
            "Extracting  /content/DemoDataset/Val/Covid/8da14fff.jpg                  \b\b\b\b 83%\b\b\b\b\b  OK \n",
            "Extracting  /content/DemoDataset/Val/Covid/9fdd3c3032296fd04d2cad5d9070d4_jumbo.jpeg     \b\b\b\b 83%\b\b\b\b\b  OK \n",
            "Extracting  /content/DemoDataset/Val/Covid/B2D20576-00B7-4519-A415-72DE29C90C34.jpeg     \b\b\b\b 83%\b\b\b\b\b  OK \n",
            "Extracting  /content/DemoDataset/Val/Covid/bb0e626a.jpg                  \b\b\b\b 83%\b\b\b\b 84%\b\b\b\b\b  OK \n",
            "Extracting  /content/DemoDataset/Val/Covid/BMJ-37-163-g1.jpg             \b\b\b\b 84%\b\b\b\b\b  OK \n",
            "Extracting  /content/DemoDataset/Val/Covid/ciaa199.pdf-001-c.png         \b\b\b\b 84%\b\b\b\b\b  OK \n",
            "Extracting  /content/DemoDataset/Val/Covid/covid-19-caso-82-1-8.png      \b\b\b\b 84%\b\b\b\b\b  OK \n",
            "Extracting  /content/DemoDataset/Val/Covid/covid-19-caso-95-1-15.png     \b\b\b\b 84%\b\b\b\b\b  OK \n",
            "Extracting  /content/DemoDataset/Val/Covid/covid-19-pneumonia-19.jpg     \b\b\b\b 84%\b\b\b\b\b  OK \n",
            "Extracting  /content/DemoDataset/Val/Covid/covid-19-pneumonia-22-day1-pa.png     \b\b\b\b 85%\b\b\b\b\b  OK \n",
            "Extracting  /content/DemoDataset/Val/Covid/covid-19-pneumonia-22-day2-pa.png     \b\b\b\b 85%\b\b\b\b\b  OK \n",
            "Extracting  /content/DemoDataset/Val/Covid/covid-19-pneumonia-30-PA.jpg     \b\b\b\b 86%\b\b\b\b\b  OK \n",
            "Extracting  /content/DemoDataset/Val/Covid/covid-19-pneumonia-58-day-7.jpg     \b\b\b\b 86%\b\b\b\b\b  OK \n",
            "Extracting  /content/DemoDataset/Val/Covid/covid-19-pneumonia-67.jpeg     \b\b\b\b 86%\b\b\b\b\b  OK \n",
            "Extracting  /content/DemoDataset/Val/Covid/covid-19-pneumonia-mild.JPG     \b\b\b\b 86%\b\b\b\b\b  OK \n",
            "Extracting  /content/DemoDataset/Val/Covid/d009d61f.jpg                  \b\b\b\b 87%\b\b\b\b\b  OK \n",
            "Extracting  /content/DemoDataset/Val/Covid/E63574A7-4188-4C8D-8D17-9D67A18A1AFA.jpeg     \b\b\b\b 87%\b\b\b\b\b  OK \n",
            "Extracting  /content/DemoDataset/Val/Covid/extubation-1.jpg              \b\b\b\b 87%\b\b\b\b\b  OK \n",
            "Extracting  /content/DemoDataset/Val/Covid/extubation-4.jpg              \b\b\b\b 87%\b\b\b\b\b  OK \n",
            "Extracting  /content/DemoDataset/Val/Covid/F2DE909F-E19C-4900-92F5-8F435B031AC6.jpeg     \b\b\b\b 87%\b\b\b\b\b  OK \n",
            "Extracting  /content/DemoDataset/Val/Covid/f8335316.jpg                  \b\b\b\b 87%\b\b\b\b\b  OK \n",
            "Extracting  /content/DemoDataset/Val/Covid/fff49165-b22d-4bb4-b9d1-d5d62c52436c.annot.original.png     \b\b\b\b 88%\b\b\b\b\b  OK \n",
            "Extracting  /content/DemoDataset/Val/Covid/lancet-case2a.jpg             \b\b\b\b 88%\b\b\b\b\b  OK \n",
            "Extracting  /content/DemoDataset/Val/Covid/nejmc2001573_f1a.jpeg         \b\b\b\b 88%\b\b\b\b\b  OK \n",
            "Extracting  /content/DemoDataset/Val/Covid/nejmoa2001191_f5-PA.jpeg      \b\b\b\b 88%\b\b\b\b\b  OK \n",
            "Extracting  /content/DemoDataset/Val/Covid/tpmd200203f2-a.png            \b\b\b\b 88%\b\b\b\b\b  OK \n",
            "Creating    /content/DemoDataset/Val/Normal                           OK\n",
            "Extracting  /content/DemoDataset/Val/Normal/IM-0135-0001.jpeg            \b\b\b\b 89%\b\b\b\b\b  OK \n",
            "Extracting  /content/DemoDataset/Val/Normal/IM-0201-0001.jpeg            \b\b\b\b 89%\b\b\b\b\b  OK \n",
            "Extracting  /content/DemoDataset/Val/Normal/IM-0225-0001.jpeg            \b\b\b\b 89%\b\b\b\b\b  OK \n",
            "Extracting  /content/DemoDataset/Val/Normal/IM-0239-0001.jpeg            \b\b\b\b 90%\b\b\b\b\b  OK \n",
            "Extracting  /content/DemoDataset/Val/Normal/IM-0244-0001.jpeg            \b\b\b\b 90%\b\b\b\b\b  OK \n",
            "Extracting  /content/DemoDataset/Val/Normal/IM-0248-0001.jpeg            \b\b\b\b 90%\b\b\b\b\b  OK \n",
            "Extracting  /content/DemoDataset/Val/Normal/IM-0274-0001.jpeg            \b\b\b\b 90%\b\b\b\b\b  OK \n",
            "Extracting  /content/DemoDataset/Val/Normal/IM-0290-0001.jpeg            \b\b\b\b 91%\b\b\b\b\b  OK \n",
            "Extracting  /content/DemoDataset/Val/Normal/IM-0361-0001.jpeg            \b\b\b\b 91%\b\b\b\b\b  OK \n",
            "Extracting  /content/DemoDataset/Val/Normal/IM-0393-0001.jpeg            \b\b\b\b 91%\b\b\b\b\b  OK \n",
            "Extracting  /content/DemoDataset/Val/Normal/IM-0425-0001.jpeg            \b\b\b\b 91%\b\b\b\b\b  OK \n",
            "Extracting  /content/DemoDataset/Val/Normal/IM-0467-0001-0001.jpeg       \b\b\b\b 92%\b\b\b\b\b  OK \n",
            "Extracting  /content/DemoDataset/Val/Normal/IM-0492-0001.jpeg            \b\b\b\b 92%\b\b\b\b\b  OK \n",
            "Extracting  /content/DemoDataset/Val/Normal/IM-0509-0001-0002.jpeg       \b\b\b\b 92%\b\b\b\b\b  OK \n",
            "Extracting  /content/DemoDataset/Val/Normal/IM-0527-0001.jpeg            \b\b\b\b 92%\b\b\b\b\b  OK \n",
            "Extracting  /content/DemoDataset/Val/Normal/IM-0543-0001-0002.jpeg       \b\b\b\b 93%\b\b\b\b\b  OK \n",
            "Extracting  /content/DemoDataset/Val/Normal/IM-0564-0001.jpeg            \b\b\b\b 93%\b\b\b\b\b  OK \n",
            "Extracting  /content/DemoDataset/Val/Normal/IM-0579-0001.jpeg            \b\b\b\b 93%\b\b\b\b\b  OK \n",
            "Extracting  /content/DemoDataset/Val/Normal/IM-0626-0001-0002.jpeg       \b\b\b\b 93%\b\b\b\b\b  OK \n",
            "Extracting  /content/DemoDataset/Val/Normal/IM-0647-0001.jpeg            \b\b\b\b 93%\b\b\b\b\b  OK \n",
            "Extracting  /content/DemoDataset/Val/Normal/IM-0676-0001.jpeg            \b\b\b\b 94%\b\b\b\b\b  OK \n",
            "Extracting  /content/DemoDataset/Val/Normal/IM-0695-0001.jpeg            \b\b\b\b 94%\b\b\b\b\b  OK \n",
            "Extracting  /content/DemoDataset/Val/Normal/IM-0710-0001.jpeg            \b\b\b\b 94%\b\b\b\b\b  OK \n",
            "Extracting  /content/DemoDataset/Val/Normal/IM-0740-0001.jpeg            \b\b\b\b 95%\b\b\b\b\b  OK \n",
            "Extracting  /content/DemoDataset/Val/Normal/IM-0766-0001.jpeg            \b\b\b\b 95%\b\b\b\b\b  OK \n",
            "Extracting  /content/DemoDataset/Val/Normal/NORMAL2-IM-0402-0001.jpeg     \b\b\b\b 96%\b\b\b\b\b  OK \n",
            "Extracting  /content/DemoDataset/Val/Normal/NORMAL2-IM-0453-0001.jpeg     \b\b\b\b 96%\b\b\b\b\b  OK \n",
            "Extracting  /content/DemoDataset/Val/Normal/NORMAL2-IM-0468-0001.jpeg     \b\b\b\b 96%\b\b\b\b\b  OK \n",
            "Extracting  /content/DemoDataset/Val/Normal/NORMAL2-IM-0521-0001.jpeg     \b\b\b\b 96%\b\b\b\b\b  OK \n",
            "Extracting  /content/DemoDataset/Val/Normal/NORMAL2-IM-0616-0001.jpeg     \b\b\b\b 97%\b\b\b\b\b  OK \n",
            "Extracting  /content/DemoDataset/Val/Normal/NORMAL2-IM-0657-0001.jpeg     \b\b\b\b 97%\b\b\b\b\b  OK \n",
            "Extracting  /content/DemoDataset/Val/Normal/NORMAL2-IM-0666-0001.jpeg     \b\b\b\b 97%\b\b\b\b\b  OK \n",
            "Extracting  /content/DemoDataset/Val/Normal/NORMAL2-IM-0698-0001.jpeg     \b\b\b\b 97%\b\b\b\b\b  OK \n",
            "Extracting  /content/DemoDataset/Val/Normal/NORMAL2-IM-0707-0001.jpeg     \b\b\b\b 98%\b\b\b\b\b  OK \n",
            "Extracting  /content/DemoDataset/Val/Normal/NORMAL2-IM-0856-0001.jpeg     \b\b\b\b 98%\b\b\b\b\b  OK \n",
            "Extracting  /content/DemoDataset/Val/Normal/NORMAL2-IM-0971-0001-0002.jpeg     \b\b\b\b 98%\b\b\b\b\b  OK \n",
            "Extracting  /content/DemoDataset/Val/Normal/NORMAL2-IM-0983-0001.jpeg     \b\b\b\b 98%\b\b\b\b\b  OK \n",
            "Extracting  /content/DemoDataset/Val/Normal/NORMAL2-IM-1188-0001.jpeg     \b\b\b\b 99%\b\b\b\b\b  OK \n",
            "Extracting  /content/DemoDataset/Val/Normal/NORMAL2-IM-1201-0001.jpeg     \b\b\b\b 99%\b\b\b\b\b  OK \n",
            "Extracting  /content/DemoDataset/Val/Normal/NORMAL2-IM-1269-0001-0001.jpeg     \b\b\b\b 99%\b\b\b\b\b  OK \n",
            "All OK\n"
          ],
          "name": "stdout"
        }
      ]
    },
    {
      "cell_type": "code",
      "metadata": {
        "id": "x__mKlYvK0Sk"
      },
      "source": [
        "#alloting paths for train and test data\n",
        "train_path = '/content/DemoDataset/Train'\n",
        "val_path = '/content/DemoDataset/Val'"
      ],
      "execution_count": null,
      "outputs": []
    },
    {
      "cell_type": "code",
      "metadata": {
        "id": "hIP5_TSSLFlQ"
      },
      "source": [
        "import tensorflow as tf\n",
        "import numpy as np\n",
        "import matplotlib.pyplot as plt\n",
        "import keras\n",
        "from keras.layers import *\n",
        "from keras.models import *\n",
        "from keras.preprocessing import *"
      ],
      "execution_count": null,
      "outputs": []
    },
    {
      "cell_type": "code",
      "metadata": {
        "id": "0jlX6gWULFvc"
      },
      "source": [
        "#building the CNN model\n",
        "model = Sequential()\n",
        "model.add(Conv2D(32,kernel_size=(3,3),activation='relu',input_shape=(128,128,3)))\n",
        "model.add(Conv2D(32,(3,3),activation='relu'))\n",
        "model.add(MaxPooling2D(pool_size=(2,2)))\n",
        "model.add(Dropout(0.25))\n",
        "\n",
        "model.add(Conv2D(64,(3,3),activation='relu'))\n",
        "model.add(MaxPooling2D(pool_size=(2,2)))\n",
        "model.add(Dropout(0.25))\n",
        "\n",
        "model.add(Conv2D(64,(3,3),activation='relu'))\n",
        "model.add(MaxPooling2D(pool_size=(2,2)))\n",
        "model.add(Dropout(0.25))\n",
        "\n",
        "model.add(Conv2D(128,(3,3),activation='relu'))\n",
        "model.add(MaxPooling2D(pool_size=(2,2)))\n",
        "model.add(Dropout(0.25))\n",
        "\n",
        "model.add(Flatten())\n",
        "model.add(Dense(128,activation='relu'))\n",
        "model.add(Dropout(0.5))\n",
        "model.add(Dense(1,activation='sigmoid'))\n",
        "\n",
        "#compiling the model with binary loss function\n",
        "model.compile(loss=keras.losses.binary_crossentropy,optimizer='adam',metrics=['accuracy'])"
      ],
      "execution_count": null,
      "outputs": []
    },
    {
      "cell_type": "code",
      "metadata": {
        "id": "NhP6Z5cSLFyU",
        "outputId": "ae82e2da-893c-42b2-b4c5-116582f398b1",
        "colab": {
          "base_uri": "https://localhost:8080/"
        }
      },
      "source": [
        "#printing the summary of the network\n",
        "model.summary()"
      ],
      "execution_count": null,
      "outputs": [
        {
          "output_type": "stream",
          "text": [
            "Model: \"sequential_1\"\n",
            "_________________________________________________________________\n",
            "Layer (type)                 Output Shape              Param #   \n",
            "=================================================================\n",
            "conv2d_5 (Conv2D)            (None, 126, 126, 32)      896       \n",
            "_________________________________________________________________\n",
            "conv2d_6 (Conv2D)            (None, 124, 124, 32)      9248      \n",
            "_________________________________________________________________\n",
            "max_pooling2d_4 (MaxPooling2 (None, 62, 62, 32)        0         \n",
            "_________________________________________________________________\n",
            "dropout_5 (Dropout)          (None, 62, 62, 32)        0         \n",
            "_________________________________________________________________\n",
            "conv2d_7 (Conv2D)            (None, 60, 60, 64)        18496     \n",
            "_________________________________________________________________\n",
            "max_pooling2d_5 (MaxPooling2 (None, 30, 30, 64)        0         \n",
            "_________________________________________________________________\n",
            "dropout_6 (Dropout)          (None, 30, 30, 64)        0         \n",
            "_________________________________________________________________\n",
            "conv2d_8 (Conv2D)            (None, 28, 28, 64)        36928     \n",
            "_________________________________________________________________\n",
            "max_pooling2d_6 (MaxPooling2 (None, 14, 14, 64)        0         \n",
            "_________________________________________________________________\n",
            "dropout_7 (Dropout)          (None, 14, 14, 64)        0         \n",
            "_________________________________________________________________\n",
            "conv2d_9 (Conv2D)            (None, 12, 12, 128)       73856     \n",
            "_________________________________________________________________\n",
            "max_pooling2d_7 (MaxPooling2 (None, 6, 6, 128)         0         \n",
            "_________________________________________________________________\n",
            "dropout_8 (Dropout)          (None, 6, 6, 128)         0         \n",
            "_________________________________________________________________\n",
            "flatten_1 (Flatten)          (None, 4608)              0         \n",
            "_________________________________________________________________\n",
            "dense_2 (Dense)              (None, 128)               589952    \n",
            "_________________________________________________________________\n",
            "dropout_9 (Dropout)          (None, 128)               0         \n",
            "_________________________________________________________________\n",
            "dense_3 (Dense)              (None, 1)                 129       \n",
            "=================================================================\n",
            "Total params: 729,505\n",
            "Trainable params: 729,505\n",
            "Non-trainable params: 0\n",
            "_________________________________________________________________\n"
          ],
          "name": "stdout"
        }
      ]
    },
    {
      "cell_type": "code",
      "metadata": {
        "id": "cOr2TvgyLF0s"
      },
      "source": [
        "#generating train image data with real-time data augmentation\n",
        "train_datagen = image.ImageDataGenerator(\n",
        "    rescale = 1./255,\n",
        "    shear_range = 0.2,\n",
        "    zoom_range = 0.2,\n",
        "    horizontal_flip = True,\n",
        ")\n",
        "\n",
        "test_dataset = image.ImageDataGenerator(rescale=1./255)"
      ],
      "execution_count": null,
      "outputs": []
    },
    {
      "cell_type": "code",
      "metadata": {
        "id": "CI_QfytWLMYO",
        "outputId": "41517f21-1ce6-4ee8-d7d6-82f0c09d085e",
        "colab": {
          "base_uri": "https://localhost:8080/"
        }
      },
      "source": [
        "#identifying image classes automatically\n",
        "train_generator = train_datagen.flow_from_directory(\n",
        "    '/content/DemoDataset/Train',\n",
        "    target_size = (128,128),\n",
        "    batch_size = 16,\n",
        "    class_mode = 'binary')"
      ],
      "execution_count": null,
      "outputs": [
        {
          "output_type": "stream",
          "text": [
            "Found 328 images belonging to 2 classes.\n"
          ],
          "name": "stdout"
        }
      ]
    },
    {
      "cell_type": "code",
      "metadata": {
        "id": "cHyBa5-hLMbF",
        "outputId": "36a4e5bb-ed94-4723-8b51-6d18bfabfecf",
        "colab": {
          "base_uri": "https://localhost:8080/"
        }
      },
      "source": [
        "#labeling the identified classes\n",
        "train_generator.class_indices"
      ],
      "execution_count": null,
      "outputs": [
        {
          "output_type": "execute_result",
          "data": {
            "text/plain": [
              "{'Covid': 0, 'Normal': 1}"
            ]
          },
          "metadata": {
            "tags": []
          },
          "execution_count": 18
        }
      ]
    },
    {
      "cell_type": "code",
      "metadata": {
        "id": "s6OcqzcuLMdo",
        "outputId": "e41673b1-244f-4525-eb56-1f7fde7010ec",
        "colab": {
          "base_uri": "https://localhost:8080/"
        }
      },
      "source": [
        "#identifying test data classes\n",
        "validation_generator = test_dataset.flow_from_directory(\n",
        "    '/content/DemoDataset/Val',\n",
        "    target_size = (128,128),\n",
        "    batch_size = 16,\n",
        "    class_mode = 'binary')"
      ],
      "execution_count": null,
      "outputs": [
        {
          "output_type": "stream",
          "text": [
            "Found 80 images belonging to 2 classes.\n"
          ],
          "name": "stdout"
        }
      ]
    },
    {
      "cell_type": "code",
      "metadata": {
        "id": "X45ugU9ZNYoh"
      },
      "source": [
        "#callback to save model periodically\n",
        "my_callbacks = [\n",
        "    tf.keras.callbacks.ModelCheckpoint(filepath='/content/model.{epoch:02d}-{val_loss:.2f}.hdf5')\n",
        "]"
      ],
      "execution_count": null,
      "outputs": []
    },
    {
      "cell_type": "code",
      "metadata": {
        "id": "TwXQz2jELMgM",
        "outputId": "03d6707b-2d44-471a-9a70-0e16eca07032",
        "colab": {
          "base_uri": "https://localhost:8080/"
        }
      },
      "source": [
        "#configuring model for training\n",
        "hist = model.fit(\n",
        "    train_generator,\n",
        "    steps_per_epoch=20,\n",
        "    epochs = 100,\n",
        "    validation_data = validation_generator,\n",
        "    validation_steps=5,\n",
        "    callbacks=my_callbacks,\n",
        "    shuffle=True\n",
        ")"
      ],
      "execution_count": null,
      "outputs": [
        {
          "output_type": "stream",
          "text": [
            "Epoch 1/100\n",
            "20/20 [==============================] - 11s 539ms/step - loss: 0.6875 - accuracy: 0.5801 - val_loss: 0.6845 - val_accuracy: 0.5000\n",
            "Epoch 2/100\n",
            "20/20 [==============================] - 11s 529ms/step - loss: 0.6085 - accuracy: 0.6987 - val_loss: 0.5892 - val_accuracy: 0.9125\n",
            "Epoch 3/100\n",
            "20/20 [==============================] - 10s 507ms/step - loss: 0.3416 - accuracy: 0.8590 - val_loss: 0.2490 - val_accuracy: 0.9875\n",
            "Epoch 4/100\n",
            "20/20 [==============================] - 11s 526ms/step - loss: 0.3384 - accuracy: 0.8782 - val_loss: 0.3309 - val_accuracy: 0.9500\n",
            "Epoch 5/100\n",
            "20/20 [==============================] - 10s 511ms/step - loss: 0.3414 - accuracy: 0.8814 - val_loss: 0.2384 - val_accuracy: 0.9750\n",
            "Epoch 6/100\n",
            "20/20 [==============================] - 10s 517ms/step - loss: 0.2479 - accuracy: 0.9071 - val_loss: 0.2118 - val_accuracy: 0.9875\n",
            "Epoch 7/100\n",
            "20/20 [==============================] - 10s 521ms/step - loss: 0.2186 - accuracy: 0.9359 - val_loss: 0.1762 - val_accuracy: 0.9875\n",
            "Epoch 8/100\n",
            "20/20 [==============================] - 10s 513ms/step - loss: 0.1482 - accuracy: 0.9551 - val_loss: 0.1290 - val_accuracy: 0.9625\n",
            "Epoch 9/100\n",
            "20/20 [==============================] - 10s 525ms/step - loss: 0.2677 - accuracy: 0.9199 - val_loss: 0.2251 - val_accuracy: 0.9500\n",
            "Epoch 10/100\n",
            "20/20 [==============================] - 11s 529ms/step - loss: 0.2524 - accuracy: 0.9231 - val_loss: 0.2021 - val_accuracy: 0.9875\n",
            "Epoch 11/100\n",
            "20/20 [==============================] - 10s 520ms/step - loss: 0.2033 - accuracy: 0.9423 - val_loss: 0.2449 - val_accuracy: 0.9875\n",
            "Epoch 12/100\n",
            "20/20 [==============================] - 11s 529ms/step - loss: 0.1725 - accuracy: 0.9295 - val_loss: 0.1388 - val_accuracy: 0.9875\n",
            "Epoch 13/100\n",
            "20/20 [==============================] - 10s 511ms/step - loss: 0.2342 - accuracy: 0.9263 - val_loss: 0.2045 - val_accuracy: 0.9750\n",
            "Epoch 14/100\n",
            "20/20 [==============================] - 10s 524ms/step - loss: 0.1516 - accuracy: 0.9359 - val_loss: 0.1246 - val_accuracy: 0.9750\n",
            "Epoch 15/100\n",
            "20/20 [==============================] - 11s 539ms/step - loss: 0.1809 - accuracy: 0.9406 - val_loss: 0.1404 - val_accuracy: 0.9750\n",
            "Epoch 16/100\n",
            "20/20 [==============================] - 11s 532ms/step - loss: 0.1653 - accuracy: 0.9455 - val_loss: 0.1192 - val_accuracy: 0.9875\n",
            "Epoch 17/100\n",
            "20/20 [==============================] - 11s 530ms/step - loss: 0.1368 - accuracy: 0.9455 - val_loss: 0.1396 - val_accuracy: 0.9750\n",
            "Epoch 18/100\n",
            "20/20 [==============================] - 10s 521ms/step - loss: 0.1537 - accuracy: 0.9423 - val_loss: 0.1379 - val_accuracy: 0.9750\n",
            "Epoch 19/100\n",
            "20/20 [==============================] - 11s 531ms/step - loss: 0.1767 - accuracy: 0.9359 - val_loss: 0.1149 - val_accuracy: 0.9750\n",
            "Epoch 20/100\n",
            "20/20 [==============================] - 10s 523ms/step - loss: 0.1401 - accuracy: 0.9712 - val_loss: 0.1688 - val_accuracy: 0.9750\n",
            "Epoch 21/100\n",
            "20/20 [==============================] - 10s 524ms/step - loss: 0.1732 - accuracy: 0.9647 - val_loss: 0.0963 - val_accuracy: 0.9875\n",
            "Epoch 22/100\n",
            "20/20 [==============================] - 10s 513ms/step - loss: 0.1365 - accuracy: 0.9519 - val_loss: 0.1065 - val_accuracy: 0.9750\n",
            "Epoch 23/100\n",
            "20/20 [==============================] - 10s 514ms/step - loss: 0.1393 - accuracy: 0.9647 - val_loss: 0.1105 - val_accuracy: 0.9875\n",
            "Epoch 24/100\n",
            "20/20 [==============================] - 10s 512ms/step - loss: 0.1251 - accuracy: 0.9647 - val_loss: 0.0944 - val_accuracy: 0.9875\n",
            "Epoch 25/100\n",
            "20/20 [==============================] - 10s 523ms/step - loss: 0.1575 - accuracy: 0.9455 - val_loss: 0.1180 - val_accuracy: 0.9875\n",
            "Epoch 26/100\n",
            "20/20 [==============================] - 10s 512ms/step - loss: 0.1510 - accuracy: 0.9615 - val_loss: 0.1144 - val_accuracy: 0.9750\n",
            "Epoch 27/100\n",
            "20/20 [==============================] - 11s 526ms/step - loss: 0.1607 - accuracy: 0.9551 - val_loss: 0.1375 - val_accuracy: 0.9875\n",
            "Epoch 28/100\n",
            "20/20 [==============================] - 10s 510ms/step - loss: 0.1161 - accuracy: 0.9679 - val_loss: 0.1049 - val_accuracy: 0.9750\n",
            "Epoch 29/100\n",
            "20/20 [==============================] - 10s 521ms/step - loss: 0.1139 - accuracy: 0.9583 - val_loss: 0.0929 - val_accuracy: 0.9750\n",
            "Epoch 30/100\n",
            "20/20 [==============================] - 10s 515ms/step - loss: 0.1154 - accuracy: 0.9615 - val_loss: 0.1121 - val_accuracy: 0.9750\n",
            "Epoch 31/100\n",
            "20/20 [==============================] - 10s 518ms/step - loss: 0.1386 - accuracy: 0.9583 - val_loss: 0.1034 - val_accuracy: 0.9750\n",
            "Epoch 32/100\n",
            "20/20 [==============================] - 10s 518ms/step - loss: 0.0899 - accuracy: 0.9776 - val_loss: 0.0895 - val_accuracy: 0.9750\n",
            "Epoch 33/100\n",
            "20/20 [==============================] - 10s 516ms/step - loss: 0.1228 - accuracy: 0.9679 - val_loss: 0.1063 - val_accuracy: 0.9625\n",
            "Epoch 34/100\n",
            "20/20 [==============================] - 10s 523ms/step - loss: 0.0989 - accuracy: 0.9647 - val_loss: 0.0957 - val_accuracy: 0.9875\n",
            "Epoch 35/100\n",
            "20/20 [==============================] - 10s 521ms/step - loss: 0.1316 - accuracy: 0.9487 - val_loss: 0.1137 - val_accuracy: 0.9625\n",
            "Epoch 36/100\n",
            "20/20 [==============================] - 10s 520ms/step - loss: 0.0943 - accuracy: 0.9776 - val_loss: 0.1114 - val_accuracy: 0.9750\n",
            "Epoch 37/100\n",
            "20/20 [==============================] - 10s 520ms/step - loss: 0.1096 - accuracy: 0.9647 - val_loss: 0.1040 - val_accuracy: 0.9625\n",
            "Epoch 38/100\n",
            "20/20 [==============================] - 10s 523ms/step - loss: 0.0971 - accuracy: 0.9776 - val_loss: 0.1069 - val_accuracy: 0.9750\n",
            "Epoch 39/100\n",
            "20/20 [==============================] - 10s 523ms/step - loss: 0.0819 - accuracy: 0.9679 - val_loss: 0.0813 - val_accuracy: 0.9875\n",
            "Epoch 40/100\n",
            "20/20 [==============================] - 10s 511ms/step - loss: 0.0857 - accuracy: 0.9679 - val_loss: 0.0899 - val_accuracy: 0.9750\n",
            "Epoch 41/100\n",
            "20/20 [==============================] - 10s 519ms/step - loss: 0.0764 - accuracy: 0.9840 - val_loss: 0.0814 - val_accuracy: 0.9750\n",
            "Epoch 42/100\n",
            "20/20 [==============================] - 10s 523ms/step - loss: 0.0921 - accuracy: 0.9872 - val_loss: 0.0826 - val_accuracy: 0.9875\n",
            "Epoch 43/100\n",
            "20/20 [==============================] - 11s 535ms/step - loss: 0.0691 - accuracy: 0.9840 - val_loss: 0.0820 - val_accuracy: 0.9750\n",
            "Epoch 44/100\n",
            "20/20 [==============================] - 11s 536ms/step - loss: 0.0668 - accuracy: 0.9776 - val_loss: 0.0802 - val_accuracy: 0.9875\n",
            "Epoch 45/100\n",
            "20/20 [==============================] - 11s 532ms/step - loss: 0.1095 - accuracy: 0.9647 - val_loss: 0.1040 - val_accuracy: 0.9875\n",
            "Epoch 46/100\n",
            "20/20 [==============================] - 10s 524ms/step - loss: 0.0865 - accuracy: 0.9719 - val_loss: 0.0886 - val_accuracy: 0.9875\n",
            "Epoch 47/100\n",
            "20/20 [==============================] - 10s 518ms/step - loss: 0.0895 - accuracy: 0.9647 - val_loss: 0.0945 - val_accuracy: 0.9750\n",
            "Epoch 48/100\n",
            "20/20 [==============================] - 11s 531ms/step - loss: 0.1030 - accuracy: 0.9583 - val_loss: 0.0882 - val_accuracy: 0.9750\n",
            "Epoch 49/100\n",
            "20/20 [==============================] - 11s 534ms/step - loss: 0.1106 - accuracy: 0.9750 - val_loss: 0.0990 - val_accuracy: 0.9875\n",
            "Epoch 50/100\n",
            "20/20 [==============================] - 11s 526ms/step - loss: 0.0853 - accuracy: 0.9679 - val_loss: 0.0847 - val_accuracy: 0.9750\n",
            "Epoch 51/100\n",
            "20/20 [==============================] - 10s 517ms/step - loss: 0.0858 - accuracy: 0.9712 - val_loss: 0.1004 - val_accuracy: 0.9625\n",
            "Epoch 52/100\n",
            "20/20 [==============================] - 11s 533ms/step - loss: 0.0865 - accuracy: 0.9647 - val_loss: 0.0898 - val_accuracy: 0.9625\n",
            "Epoch 53/100\n",
            "20/20 [==============================] - 10s 520ms/step - loss: 0.0778 - accuracy: 0.9744 - val_loss: 0.0757 - val_accuracy: 0.9750\n",
            "Epoch 54/100\n",
            "20/20 [==============================] - 10s 516ms/step - loss: 0.0799 - accuracy: 0.9712 - val_loss: 0.0901 - val_accuracy: 0.9875\n",
            "Epoch 55/100\n",
            "20/20 [==============================] - 10s 525ms/step - loss: 0.0626 - accuracy: 0.9808 - val_loss: 0.0742 - val_accuracy: 0.9875\n",
            "Epoch 56/100\n",
            "20/20 [==============================] - 11s 525ms/step - loss: 0.0934 - accuracy: 0.9647 - val_loss: 0.0727 - val_accuracy: 0.9750\n",
            "Epoch 57/100\n",
            "20/20 [==============================] - 10s 523ms/step - loss: 0.0623 - accuracy: 0.9744 - val_loss: 0.0811 - val_accuracy: 0.9750\n",
            "Epoch 58/100\n",
            "20/20 [==============================] - 10s 516ms/step - loss: 0.0753 - accuracy: 0.9776 - val_loss: 0.0870 - val_accuracy: 0.9750\n",
            "Epoch 59/100\n",
            "20/20 [==============================] - 10s 521ms/step - loss: 0.0747 - accuracy: 0.9840 - val_loss: 0.0984 - val_accuracy: 0.9750\n",
            "Epoch 60/100\n",
            "20/20 [==============================] - 10s 518ms/step - loss: 0.0709 - accuracy: 0.9840 - val_loss: 0.1849 - val_accuracy: 0.9500\n",
            "Epoch 61/100\n",
            "20/20 [==============================] - 10s 509ms/step - loss: 0.1362 - accuracy: 0.9487 - val_loss: 0.1939 - val_accuracy: 0.9625\n",
            "Epoch 62/100\n",
            "20/20 [==============================] - 11s 527ms/step - loss: 0.2814 - accuracy: 0.9391 - val_loss: 0.1643 - val_accuracy: 0.9625\n",
            "Epoch 63/100\n",
            "20/20 [==============================] - 10s 518ms/step - loss: 0.0914 - accuracy: 0.9744 - val_loss: 0.0902 - val_accuracy: 0.9875\n",
            "Epoch 64/100\n",
            "20/20 [==============================] - 10s 514ms/step - loss: 0.0849 - accuracy: 0.9808 - val_loss: 0.0881 - val_accuracy: 0.9875\n",
            "Epoch 65/100\n",
            "20/20 [==============================] - 10s 511ms/step - loss: 0.0698 - accuracy: 0.9808 - val_loss: 0.0865 - val_accuracy: 0.9750\n",
            "Epoch 66/100\n",
            "20/20 [==============================] - 11s 527ms/step - loss: 0.0839 - accuracy: 0.9712 - val_loss: 0.1047 - val_accuracy: 0.9750\n",
            "Epoch 67/100\n",
            "20/20 [==============================] - 10s 512ms/step - loss: 0.0666 - accuracy: 0.9776 - val_loss: 0.0913 - val_accuracy: 0.9875\n",
            "Epoch 68/100\n",
            "20/20 [==============================] - 10s 520ms/step - loss: 0.0705 - accuracy: 0.9776 - val_loss: 0.0886 - val_accuracy: 0.9875\n",
            "Epoch 69/100\n",
            "20/20 [==============================] - 10s 515ms/step - loss: 0.0940 - accuracy: 0.9679 - val_loss: 0.0965 - val_accuracy: 0.9875\n",
            "Epoch 70/100\n",
            "20/20 [==============================] - 10s 521ms/step - loss: 0.0556 - accuracy: 0.9872 - val_loss: 0.0919 - val_accuracy: 0.9875\n",
            "Epoch 71/100\n",
            "20/20 [==============================] - 11s 536ms/step - loss: 0.0520 - accuracy: 0.9840 - val_loss: 0.0902 - val_accuracy: 0.9750\n",
            "Epoch 72/100\n",
            "20/20 [==============================] - 11s 528ms/step - loss: 0.0448 - accuracy: 0.9844 - val_loss: 0.0776 - val_accuracy: 0.9875\n",
            "Epoch 73/100\n",
            "20/20 [==============================] - 10s 521ms/step - loss: 0.0463 - accuracy: 0.9840 - val_loss: 0.0857 - val_accuracy: 0.9875\n",
            "Epoch 74/100\n",
            "20/20 [==============================] - 10s 516ms/step - loss: 0.0311 - accuracy: 0.9840 - val_loss: 0.0932 - val_accuracy: 0.9750\n",
            "Epoch 75/100\n",
            "20/20 [==============================] - 10s 522ms/step - loss: 0.0536 - accuracy: 0.9776 - val_loss: 0.0951 - val_accuracy: 0.9750\n",
            "Epoch 76/100\n",
            "20/20 [==============================] - 10s 514ms/step - loss: 0.0778 - accuracy: 0.9776 - val_loss: 0.0898 - val_accuracy: 0.9875\n",
            "Epoch 77/100\n",
            "20/20 [==============================] - 11s 531ms/step - loss: 0.0436 - accuracy: 0.9936 - val_loss: 0.0962 - val_accuracy: 0.9875\n",
            "Epoch 78/100\n",
            "20/20 [==============================] - 10s 524ms/step - loss: 0.0464 - accuracy: 0.9840 - val_loss: 0.1070 - val_accuracy: 0.9875\n",
            "Epoch 79/100\n",
            "20/20 [==============================] - 10s 517ms/step - loss: 0.0614 - accuracy: 0.9776 - val_loss: 0.0929 - val_accuracy: 0.9875\n",
            "Epoch 80/100\n",
            "20/20 [==============================] - 10s 518ms/step - loss: 0.0433 - accuracy: 0.9808 - val_loss: 0.0916 - val_accuracy: 0.9875\n",
            "Epoch 81/100\n",
            "20/20 [==============================] - 10s 522ms/step - loss: 0.0655 - accuracy: 0.9840 - val_loss: 0.0963 - val_accuracy: 0.9875\n",
            "Epoch 82/100\n",
            "20/20 [==============================] - 10s 520ms/step - loss: 0.0661 - accuracy: 0.9808 - val_loss: 0.0862 - val_accuracy: 0.9875\n",
            "Epoch 83/100\n",
            "20/20 [==============================] - 10s 524ms/step - loss: 0.0263 - accuracy: 0.9872 - val_loss: 0.0881 - val_accuracy: 0.9875\n",
            "Epoch 84/100\n",
            "20/20 [==============================] - 11s 531ms/step - loss: 0.0645 - accuracy: 0.9812 - val_loss: 0.0802 - val_accuracy: 0.9875\n",
            "Epoch 85/100\n",
            "20/20 [==============================] - 11s 538ms/step - loss: 0.0593 - accuracy: 0.9840 - val_loss: 0.0899 - val_accuracy: 0.9875\n",
            "Epoch 86/100\n",
            "20/20 [==============================] - 10s 519ms/step - loss: 0.0396 - accuracy: 0.9840 - val_loss: 0.0931 - val_accuracy: 0.9875\n",
            "Epoch 87/100\n",
            "20/20 [==============================] - 10s 524ms/step - loss: 0.0546 - accuracy: 0.9808 - val_loss: 0.1113 - val_accuracy: 0.9875\n",
            "Epoch 88/100\n",
            "20/20 [==============================] - 10s 522ms/step - loss: 0.0568 - accuracy: 0.9840 - val_loss: 0.0802 - val_accuracy: 0.9875\n",
            "Epoch 89/100\n",
            "20/20 [==============================] - 10s 520ms/step - loss: 0.0352 - accuracy: 0.9872 - val_loss: 0.0861 - val_accuracy: 0.9875\n",
            "Epoch 90/100\n",
            "20/20 [==============================] - 10s 518ms/step - loss: 0.0436 - accuracy: 0.9872 - val_loss: 0.1002 - val_accuracy: 0.9875\n",
            "Epoch 91/100\n",
            "20/20 [==============================] - 10s 519ms/step - loss: 0.0420 - accuracy: 0.9904 - val_loss: 0.1495 - val_accuracy: 0.9750\n",
            "Epoch 92/100\n",
            "20/20 [==============================] - 10s 517ms/step - loss: 0.0796 - accuracy: 0.9808 - val_loss: 0.1113 - val_accuracy: 0.9875\n",
            "Epoch 93/100\n",
            "20/20 [==============================] - 10s 523ms/step - loss: 0.1062 - accuracy: 0.9615 - val_loss: 0.0889 - val_accuracy: 0.9875\n",
            "Epoch 94/100\n",
            "20/20 [==============================] - 10s 524ms/step - loss: 0.0675 - accuracy: 0.9776 - val_loss: 0.1078 - val_accuracy: 0.9875\n",
            "Epoch 95/100\n",
            "20/20 [==============================] - 10s 511ms/step - loss: 0.0526 - accuracy: 0.9840 - val_loss: 0.1017 - val_accuracy: 0.9875\n",
            "Epoch 96/100\n",
            "20/20 [==============================] - 10s 513ms/step - loss: 0.0385 - accuracy: 0.9872 - val_loss: 0.0920 - val_accuracy: 0.9875\n",
            "Epoch 97/100\n",
            "20/20 [==============================] - 10s 520ms/step - loss: 0.0390 - accuracy: 0.9808 - val_loss: 0.0945 - val_accuracy: 0.9750\n",
            "Epoch 98/100\n",
            "20/20 [==============================] - 10s 523ms/step - loss: 0.0557 - accuracy: 0.9808 - val_loss: 0.0885 - val_accuracy: 0.9875\n",
            "Epoch 99/100\n",
            "20/20 [==============================] - 11s 528ms/step - loss: 0.0383 - accuracy: 0.9840 - val_loss: 0.1048 - val_accuracy: 0.9875\n",
            "Epoch 100/100\n",
            "20/20 [==============================] - 10s 516ms/step - loss: 0.0365 - accuracy: 0.9872 - val_loss: 0.0932 - val_accuracy: 0.9750\n"
          ],
          "name": "stdout"
        }
      ]
    },
    {
      "cell_type": "markdown",
      "metadata": {
        "id": "NIUx5nF5TAa2"
      },
      "source": [
        "#Finding the Optimal Model(based on CM)\n"
      ]
    },
    {
      "cell_type": "code",
      "metadata": {
        "id": "t67CRYz1enj-"
      },
      "source": [
        "from sklearn.metrics import confusion_matrix\n",
        "from pathlib import Path\n",
        "import os\n",
        "\n",
        "mod = []\n",
        "paths = Path('/content').glob('**/*.hdf5')\n",
        "#iterating through saved models\n",
        "for path in paths:\n",
        "  model = load_model(str(path))\n",
        "  \n",
        "  y_actual = []\n",
        "  y_test = []\n",
        "\n",
        "  #predicting normal class\n",
        "  for i in os.listdir('/content/DemoDataset/Val/Normal/'):\n",
        "    img = image.load_img('/content/DemoDataset/Val/Normal/'+i,target_size=(128,128))\n",
        "    img = image.img_to_array(img)\n",
        "    img = np.expand_dims(img, axis=0)\n",
        "    p = model.predict_classes(img)\n",
        "    if p[0,0]==1:\n",
        "      y_test.append('Normal')\n",
        "    else:\n",
        "      y_test.append('Covid')\n",
        "    y_actual.append('Normal')\n",
        "\n",
        "  #predicting covid class\n",
        "  for i in os.listdir('/content/DemoDataset/Val/Covid/'):\n",
        "    img = image.load_img('/content/DemoDataset/Val/Covid/'+i,target_size=(128,128))\n",
        "    img = image.img_to_array(img)\n",
        "    img = np.expand_dims(img, axis=0)\n",
        "    p = model.predict_classes(img)\n",
        "    if p[0,0]==1:\n",
        "      y_test.append('Normal')\n",
        "    else:\n",
        "      y_test.append('Covid')\n",
        "    y_actual.append('Covid')\n",
        "\n",
        "  #saving results in form of numpy array\n",
        "  y_actual = np.array(y_actual)\n",
        "  y_test = np.array(y_test)\n",
        "\n",
        "  #generating confusion matrix\n",
        "  cm = confusion_matrix(y_actual, y_test)\n",
        "\n",
        "  #selecting models with good results\n",
        "  fp = int(cm[0][1])\n",
        "  fn = int(cm[1][0])\n",
        "  if fp<=2 and fn<=2:\n",
        "    mod.append(path)\n",
        "    print(cm)\n",
        "    print(path)"
      ],
      "execution_count": null,
      "outputs": []
    },
    {
      "cell_type": "markdown",
      "metadata": {
        "id": "3Inv81xIRh_4"
      },
      "source": [
        "#Evaluating selected model"
      ]
    },
    {
      "cell_type": "code",
      "metadata": {
        "id": "XSxGT-cLLVyq"
      },
      "source": [
        "model = load_model('/content/model.26-0.11.hdf5')"
      ],
      "execution_count": null,
      "outputs": []
    },
    {
      "cell_type": "code",
      "metadata": {
        "id": "uoX9PSJHLVtd",
        "outputId": "c8dcff4f-e7c6-471c-8e2f-e1b75ffc0bc4",
        "colab": {
          "base_uri": "https://localhost:8080/"
        }
      },
      "source": [
        "model.evaluate(train_generator)"
      ],
      "execution_count": null,
      "outputs": [
        {
          "output_type": "stream",
          "text": [
            "21/21 [==============================] - 9s 423ms/step - loss: 0.1071 - accuracy: 0.9787\n"
          ],
          "name": "stdout"
        },
        {
          "output_type": "execute_result",
          "data": {
            "text/plain": [
              "[0.10713795572519302, 0.9786585569381714]"
            ]
          },
          "metadata": {
            "tags": []
          },
          "execution_count": 52
        }
      ]
    },
    {
      "cell_type": "code",
      "metadata": {
        "id": "qdrXukRhLVwC",
        "outputId": "0a5b1007-f112-485e-eadf-dd0cf0d0b468",
        "colab": {
          "base_uri": "https://localhost:8080/"
        }
      },
      "source": [
        "model.evaluate(validation_generator)"
      ],
      "execution_count": null,
      "outputs": [
        {
          "output_type": "stream",
          "text": [
            "5/5 [==============================] - 1s 260ms/step - loss: 0.1144 - accuracy: 0.9750\n"
          ],
          "name": "stdout"
        },
        {
          "output_type": "execute_result",
          "data": {
            "text/plain": [
              "[0.11440887302160263, 0.9750000238418579]"
            ]
          },
          "metadata": {
            "tags": []
          },
          "execution_count": 53
        }
      ]
    },
    {
      "cell_type": "markdown",
      "metadata": {
        "id": "u5Lb7DPLK_mw"
      },
      "source": [
        "#Confusion Matrix"
      ]
    },
    {
      "cell_type": "code",
      "metadata": {
        "id": "_I51OXqvLaEo",
        "outputId": "6610921a-8cbe-436d-8175-ffceb2607ce7",
        "colab": {
          "base_uri": "https://localhost:8080/"
        }
      },
      "source": [
        "train_generator.class_indices"
      ],
      "execution_count": null,
      "outputs": [
        {
          "output_type": "execute_result",
          "data": {
            "text/plain": [
              "{'Covid': 0, 'Normal': 1}"
            ]
          },
          "metadata": {
            "tags": []
          },
          "execution_count": 27
        }
      ]
    },
    {
      "cell_type": "code",
      "metadata": {
        "id": "PmTBuK3dLaHI"
      },
      "source": [
        "y_actual = []\n",
        "y_test = []\n",
        "threshold=0.5"
      ],
      "execution_count": null,
      "outputs": []
    },
    {
      "cell_type": "code",
      "metadata": {
        "id": "TAAXopGGLaJc",
        "outputId": "5ba9ab2e-b209-4160-f7ee-c01dddd24734",
        "colab": {
          "base_uri": "https://localhost:8080/"
        }
      },
      "source": [
        "for i in os.listdir('/content/DemoDataset/Val/Normal/'):\n",
        "  img = image.load_img('/content/DemoDataset/Val/Normal/'+i,target_size=(128,128))\n",
        "  img = image.img_to_array(img)\n",
        "  img = np.expand_dims(img, axis=0)\n",
        "  p = model.predict_classes(img)\n",
        "  if p[0,0]==1:\n",
        "    y_test.append('Normal')\n",
        "  else:\n",
        "    y_test.append('Covid')\n",
        "  y_actual.append('Normal')\n",
        "print(y_test)"
      ],
      "execution_count": null,
      "outputs": [
        {
          "output_type": "stream",
          "text": [
            "['Normal', 'Normal', 'Normal', 'Normal', 'Normal', 'Normal', 'Normal', 'Normal', 'Normal', 'Normal', 'Normal', 'Normal', 'Normal', 'Normal', 'Normal', 'Normal', 'Normal', 'Normal', 'Normal', 'Covid', 'Normal', 'Normal', 'Normal', 'Normal', 'Normal', 'Normal', 'Normal', 'Normal', 'Normal', 'Normal', 'Normal', 'Normal', 'Normal', 'Normal', 'Normal', 'Normal', 'Normal', 'Normal', 'Normal', 'Normal']\n"
          ],
          "name": "stdout"
        }
      ]
    },
    {
      "cell_type": "code",
      "metadata": {
        "id": "QQlr0TilLf9c",
        "outputId": "e4ed5f45-a0fb-43db-ffbb-26e571c77a24",
        "colab": {
          "base_uri": "https://localhost:8080/"
        }
      },
      "source": [
        "for i in os.listdir('/content/DemoDataset/Val/Covid/'):\n",
        "  img = image.load_img('/content/DemoDataset/Val/Covid/'+i,target_size=(128,128))\n",
        "  img = image.img_to_array(img)\n",
        "  img = np.expand_dims(img, axis=0)\n",
        "  p = model.predict_classes(img)\n",
        "  if p[0,0]==1:\n",
        "    y_test.append('Normal')\n",
        "  else:\n",
        "    y_test.append('Covid')\n",
        "  y_actual.append('Covid')\n",
        "print(y_test[40:])"
      ],
      "execution_count": null,
      "outputs": [
        {
          "output_type": "stream",
          "text": [
            "['Covid', 'Covid', 'Covid', 'Covid', 'Covid', 'Covid', 'Covid', 'Covid', 'Covid', 'Covid', 'Covid', 'Covid', 'Covid', 'Covid', 'Covid', 'Covid', 'Normal', 'Covid', 'Covid', 'Covid', 'Covid', 'Covid', 'Covid', 'Covid', 'Covid', 'Covid', 'Covid', 'Covid', 'Covid', 'Covid', 'Covid', 'Covid', 'Covid', 'Covid', 'Covid', 'Covid', 'Covid', 'Covid', 'Covid', 'Covid']\n"
          ],
          "name": "stdout"
        }
      ]
    },
    {
      "cell_type": "code",
      "metadata": {
        "id": "IMsrQrZwLf_z"
      },
      "source": [
        "y_actual = np.array(y_actual)\n",
        "y_test = np.array(y_test)\n"
      ],
      "execution_count": null,
      "outputs": []
    },
    {
      "cell_type": "code",
      "metadata": {
        "id": "cnSQ0ymYLlE9"
      },
      "source": [
        "cm = confusion_matrix(y_actual, y_test)"
      ],
      "execution_count": null,
      "outputs": []
    },
    {
      "cell_type": "code",
      "metadata": {
        "id": "0FBTSOSpLlIE"
      },
      "source": [
        "import seaborn as sns"
      ],
      "execution_count": null,
      "outputs": []
    },
    {
      "cell_type": "code",
      "metadata": {
        "id": "uQaxpaWBLl6Q",
        "outputId": "34d69338-65c1-4780-947d-c63e26469590",
        "colab": {
          "base_uri": "https://localhost:8080/",
          "height": 282
        }
      },
      "source": [
        "#displaying the confusion matrix\n",
        "sns.heatmap(cm, cmap=\"plasma\", annot=True)"
      ],
      "execution_count": null,
      "outputs": [
        {
          "output_type": "execute_result",
          "data": {
            "text/plain": [
              "<matplotlib.axes._subplots.AxesSubplot at 0x7fc6332a0630>"
            ]
          },
          "metadata": {
            "tags": []
          },
          "execution_count": 35
        },
        {
          "output_type": "display_data",
          "data": {
            "image/png": "[encoded data removed]",
            "text/plain": [
              "<Figure size 432x288 with 2 Axes>"
            ]
          },
          "metadata": {
            "tags": [],
            "needs_background": "light"
          }
        }
      ]
    },
    {
      "cell_type": "markdown",
      "metadata": {
        "id": "STUBVWCGS1fu"
      },
      "source": [
        "#TESTING\n"
      ]
    },
    {
      "cell_type": "code",
      "metadata": {
        "id": "_Eu6C6h9ix2R"
      },
      "source": [
        "from keras.models import load_model\n",
        "import cv2\n",
        "import numpy as np"
      ],
      "execution_count": null,
      "outputs": []
    },
    {
      "cell_type": "code",
      "metadata": {
        "id": "cnhQd9R1LmC8"
      },
      "source": [
        "#loading the model\n",
        "model = load_model('/content/drive/My Drive/MODEL and JSON/model_demo-07-10.hdf5')"
      ],
      "execution_count": null,
      "outputs": []
    },
    {
      "cell_type": "code",
      "metadata": {
        "id": "ho_D8WMRIOg8"
      },
      "source": [
        "#compiling the saved model\n",
        "model.compile(loss='binary_crossentropy',\n",
        "              optimizer='adam',\n",
        "              metrics=['accuracy'])"
      ],
      "execution_count": null,
      "outputs": []
    },
    {
      "cell_type": "code",
      "metadata": {
        "id": "0Vt_EQTyIQgX",
        "outputId": "685d8da3-afc9-4a0f-f2ae-ab16f57d9aa4",
        "colab": {
          "base_uri": "https://localhost:8080/"
        }
      },
      "source": [
        "#uploading and pre-processing of image for testing\n",
        "img = cv2.imread('/content/1.jpg')\n",
        "img = cv2.resize(img,(128,128))\n",
        "img = np.reshape(img,[1,128,128,3])\n",
        "img = np.array(img, dtype=np.float64)\n",
        "print(type(img))"
      ],
      "execution_count": null,
      "outputs": [
        {
          "output_type": "stream",
          "text": [
            "<class 'numpy.ndarray'>\n"
          ],
          "name": "stdout"
        }
      ]
    },
    {
      "cell_type": "code",
      "metadata": {
        "id": "yrp5l_LLIU7C"
      },
      "source": [
        "#predicting the uploaded image\n",
        "prediction = model.predict_classes(img)\n",
        "prob = model.predict_proba(img)"
      ],
      "execution_count": null,
      "outputs": []
    },
    {
      "cell_type": "code",
      "metadata": {
        "id": "Rg1ZWKSAduRu",
        "outputId": "ac3a66e8-e638-48d1-b7b3-616ad94ffa3e",
        "colab": {
          "base_uri": "https://localhost:8080/",
          "height": 52
        }
      },
      "source": [
        "#printing the predicted class and probability of uploaded image\n",
        "if prediction[0,0] == 0:\n",
        "  print(\"Covid-19\")\n",
        "  print(f'Accuracy : {(1-prob[0,0])*100}%')\n",
        "else:\n",
        "  print(\"Normal\")\n",
        "  print(\"Accuracy : {:.2f}\".format((prob[0,0])*100),\"%\")"
      ],
      "execution_count": null,
      "outputs": [
        {
          "output_type": "stream",
          "text": [
            "Covid-19\n",
            "Accuracy : 99.96366166160442%\n"
          ],
          "name": "stdout"
        }
      ]
    }
  ]
}